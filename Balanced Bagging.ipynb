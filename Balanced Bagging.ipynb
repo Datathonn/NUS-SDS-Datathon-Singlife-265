{
 "cells": [
  {
   "cell_type": "code",
   "execution_count": 1,
   "metadata": {},
   "outputs": [],
   "source": [
    "import pandas as pd\n",
    "df = pd.read_parquet('./data/catB_train.parquet')"
   ]
  },
  {
   "cell_type": "code",
   "execution_count": 2,
   "metadata": {},
   "outputs": [],
   "source": [
    "df = df[df['cltdob_fix']!='None']\n",
    "df['cltdob_fix'] = pd.to_datetime(df.iloc[:, 6], format ='mixed')\n",
    "df['age'] = 2024-df['cltdob_fix'].dt.year\n",
    "\n",
    "df[\"f_purchase_lh\"] = df[\"f_purchase_lh\"].fillna(0)\n",
    "y = df[\"f_purchase_lh\"]\n",
    "X = df.drop(columns=['f_purchase_lh'])\n",
    "\n",
    "numeric_cols = X.select_dtypes(include=[\"int32\", \"int64\", \"float64\"]).columns\n",
    "X_numeric = X[numeric_cols]\n",
    "X_numeric = X_numeric.apply(lambda x: x.fillna(-1))\n",
    "\n",
    "from sklearn.feature_selection import VarianceThreshold\n",
    "sel = VarianceThreshold(threshold=(0.05))\n",
    "sel.fit(X_numeric)\n",
    "X_numeric = X_numeric[numeric_cols[sel.get_support()]]\n",
    "\n",
    "non_numeric_cols = X.select_dtypes(include=[\"string\", \"object\"]).columns\n",
    "non_numeric_keep = []\n",
    "for col in non_numeric_cols:\n",
    "    if len(X[col].unique()) <= 5:\n",
    "        if len(X[col].unique()) > 1:\n",
    "            non_numeric_keep.append(col)\n",
    "X_non_numeric = pd.get_dummies(X[non_numeric_keep], dtype=float)\n",
    "\n",
    "X = pd.concat([X_numeric, X_non_numeric], axis=1)"
   ]
  },
  {
   "cell_type": "code",
   "execution_count": 3,
   "metadata": {},
   "outputs": [],
   "source": [
    "from sklearn.model_selection import train_test_split\n",
    "X_train, X_val, y_train, y_val = train_test_split(X, y, test_size=0.2, random_state=0)"
   ]
  },
  {
   "cell_type": "code",
   "execution_count": 4,
   "metadata": {},
   "outputs": [],
   "source": [
    "from imblearn.over_sampling import RandomOverSampler, SMOTE\n",
    "\n",
    "ros = RandomOverSampler(random_state=0)\n",
    "X_ros, y_ros = ros.fit_resample(X_train, y_train)\n",
    "smote = SMOTE(random_state=0)\n",
    "X_smote, y_smote = smote.fit_resample(X_train, y_train)"
   ]
  },
  {
   "cell_type": "code",
   "execution_count": 5,
   "metadata": {},
   "outputs": [],
   "source": [
    "from sklearn.ensemble import HistGradientBoostingClassifier\n",
    "from imblearn.ensemble import BalancedBaggingClassifier\n",
    "from sklearn.metrics import confusion_matrix, accuracy_score, precision_score, recall_score, f1_score\n",
    "\n",
    "bbc_ros = BalancedBaggingClassifier(estimator=HistGradientBoostingClassifier(random_state=0), n_estimators=15, random_state=0)\n",
    "bbc_smote = BalancedBaggingClassifier(estimator=HistGradientBoostingClassifier(random_state=0), n_estimators=15, random_state=0)"
   ]
  },
  {
   "cell_type": "code",
   "execution_count": 6,
   "metadata": {},
   "outputs": [
    {
     "name": "stdout",
     "output_type": "stream",
     "text": [
      "\n",
      "Balanced Bagging Classifier with SMOTE Results:\n",
      "[[3415   33]\n",
      " [ 117   29]]\n",
      "Accuracy: 0.9582637729549248\n",
      "Precision: 0.46774193548387094\n",
      "Recall: 0.19863013698630136\n",
      "F1 Score: 0.27884615384615385\n"
     ]
    }
   ],
   "source": [
    "bbc_smote.fit(X_smote, y_smote)\n",
    "y_val_pred_bbc = bbc_smote.predict(X_val)\n",
    "conf_matrix_bbc = confusion_matrix(y_val, y_val_pred_bbc)\n",
    "print(\"\\nBalanced Bagging Classifier with SMOTE Results:\")\n",
    "print(conf_matrix_bbc)\n",
    "print(f\"Accuracy: {accuracy_score(y_val, y_val_pred_bbc)}\")\n",
    "print(f\"Precision: {precision_score(y_val, y_val_pred_bbc)}\")\n",
    "print(f\"Recall: {recall_score(y_val, y_val_pred_bbc)}\")\n",
    "print(f\"F1 Score: {f1_score(y_val, y_val_pred_bbc)}\")"
   ]
  },
  {
   "cell_type": "code",
   "execution_count": 7,
   "metadata": {},
   "outputs": [
    {
     "name": "stdout",
     "output_type": "stream",
     "text": [
      "\n",
      "Balanced Bagging Classifier with ROS Results:\n",
      "[[3160  288]\n",
      " [  71   75]]\n",
      "Accuracy: 0.9001112966054535\n",
      "Precision: 0.2066115702479339\n",
      "Recall: 0.5136986301369864\n",
      "F1 Score: 0.29469548133595286\n"
     ]
    }
   ],
   "source": [
    "bbc_ros.fit(X_ros, y_ros)\n",
    "y_val_pred_ros = bbc_ros.predict(X_val)\n",
    "conf_matrix_ros = confusion_matrix(y_val, y_val_pred_ros)\n",
    "print(\"\\nBalanced Bagging Classifier with ROS Results:\")\n",
    "print(conf_matrix_ros)\n",
    "print(f\"Accuracy: {accuracy_score(y_val, y_val_pred_ros)}\")\n",
    "print(f\"Precision: {precision_score(y_val, y_val_pred_ros)}\")\n",
    "print(f\"Recall: {recall_score(y_val, y_val_pred_ros)}\")\n",
    "print(f\"F1 Score: {f1_score(y_val, y_val_pred_ros)}\")"
   ]
  }
 ],
 "metadata": {
  "kernelspec": {
   "display_name": "Python 3",
   "language": "python",
   "name": "python3"
  },
  "language_info": {
   "codemirror_mode": {
    "name": "ipython",
    "version": 3
   },
   "file_extension": ".py",
   "mimetype": "text/x-python",
   "name": "python",
   "nbconvert_exporter": "python",
   "pygments_lexer": "ipython3",
   "version": "3.9.6"
  }
 },
 "nbformat": 4,
 "nbformat_minor": 2
}
