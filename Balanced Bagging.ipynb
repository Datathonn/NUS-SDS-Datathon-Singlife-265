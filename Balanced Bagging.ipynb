{
 "cells": [
  {
   "cell_type": "code",
   "execution_count": 7,
   "metadata": {},
   "outputs": [],
   "source": [
    "import pandas as pd\n",
    "df = pd.read_parquet('./data/catB_train.parquet')"
   ]
  },
  {
   "cell_type": "code",
   "execution_count": 26,
   "metadata": {},
   "outputs": [],
   "source": [
    "df = df[df['cltdob_fix']!='None']\n",
    "df['cltdob_fix'] = pd.to_datetime(df.iloc[:, 6], format ='mixed')\n",
    "df['age'] = 2024-df['cltdob_fix'].dt.year\n",
    "\n",
    "df[\"f_purchase_lh\"] = df[\"f_purchase_lh\"].fillna(0)\n",
    "y = df[\"f_purchase_lh\"]\n",
    "X = df.drop(columns=['f_purchase_lh'])\n",
    "\n",
    "numeric_cols = X.select_dtypes(include=[\"int32\", \"int64\", \"float64\"]).columns\n",
    "X_numeric = X[numeric_cols]\n",
    "X_numeric = X_numeric.apply(lambda x: x.fillna(-1))\n",
    "\n",
    "non_numeric_cols = X.select_dtypes(include=[\"string\", \"object\"]).columns\n",
    "non_numeric_keep = []\n",
    "for col in non_numeric_cols:\n",
    "    if len(X[col].unique()) <= 5:\n",
    "        if len(X[col].unique()) > 1:\n",
    "            non_numeric_keep.append(col)\n",
    "X_non_numeric = pd.get_dummies(X[non_numeric_keep], dtype=float)\n",
    "\n",
    "X = pd.concat([X_numeric, X_non_numeric], axis=1)\n",
    "\n",
    "from sklearn.feature_selection import VarianceThreshold\n",
    "sel = VarianceThreshold(threshold=(0.05))\n",
    "sel.fit(X)\n",
    "X = X[X.columns.values[sel.get_support()]]"
   ]
  },
  {
   "cell_type": "code",
   "execution_count": 27,
   "metadata": {},
   "outputs": [],
   "source": [
    "from sklearn.model_selection import train_test_split\n",
    "X_train, X_val, y_train, y_val = train_test_split(X, y, test_size=0.2, random_state=10)"
   ]
  },
  {
   "cell_type": "code",
   "execution_count": 28,
   "metadata": {},
   "outputs": [],
   "source": [
    "from imblearn.over_sampling import RandomOverSampler\n",
    "\n",
    "ros = RandomOverSampler(random_state=0)\n",
    "X_ros, y_ros = ros.fit_resample(X_train, y_train)"
   ]
  },
  {
   "cell_type": "code",
   "execution_count": 32,
   "metadata": {},
   "outputs": [],
   "source": [
    "from sklearn.ensemble import RandomForestClassifier\n",
    "from sklearn.tree import DecisionTreeClassifier\n",
    "from imblearn.ensemble import BalancedBaggingClassifier\n",
    "from sklearn.metrics import confusion_matrix, accuracy_score, precision_score, recall_score, f1_score"
   ]
  },
  {
   "cell_type": "code",
   "execution_count": 42,
   "metadata": {},
   "outputs": [
    {
     "name": "stdout",
     "output_type": "stream",
     "text": [
      "\n",
      "Balanced Bagging Classifier with ROS Results:\n",
      "[[3416   39]\n",
      " [ 111   28]]\n",
      "Accuracy: 0.9582637729549248\n",
      "Precision: 0.417910447761194\n",
      "Recall: 0.2014388489208633\n",
      "F1 Score: 0.27184466019417475\n"
     ]
    }
   ],
   "source": [
    "bbc = BalancedBaggingClassifier(n_estimators=20, random_state=20)\n",
    "bbc.fit(X_ros, y_ros)\n",
    "y_val_pred = bbc.predict(X_val)\n",
    "conf_matrix = confusion_matrix(y_val, y_val_pred)\n",
    "print(\"\\nBalanced Bagging Classifier with ROS Results:\")\n",
    "print(conf_matrix)\n",
    "print(f\"Accuracy: {accuracy_score(y_val, y_val_pred)}\")\n",
    "print(f\"Precision: {precision_score(y_val, y_val_pred)}\")\n",
    "print(f\"Recall: {recall_score(y_val, y_val_pred)}\")\n",
    "print(f\"F1 Score: {f1_score(y_val, y_val_pred)}\")"
   ]
  },
  {
   "cell_type": "code",
   "execution_count": 33,
   "metadata": {},
   "outputs": [
    {
     "name": "stdout",
     "output_type": "stream",
     "text": [
      "\n",
      "Balanced Bagging Classifier with ROS Results:\n",
      "[[3431   24]\n",
      " [ 113   26]]\n",
      "Accuracy: 0.9618809126321647\n",
      "Precision: 0.52\n",
      "Recall: 0.18705035971223022\n",
      "F1 Score: 0.2751322751322751\n"
     ]
    }
   ],
   "source": [
    "bbc_rf = BalancedBaggingClassifier(estimator=RandomForestClassifier(random_state=0), n_estimators=20, random_state=0)\n",
    "bbc_rf.fit(X_ros, y_ros)\n",
    "y_val_pred_rf = bbc_rf.predict(X_val)\n",
    "conf_matrix_rf = confusion_matrix(y_val, y_val_pred_rf)\n",
    "print(\"\\nBalanced Bagging Classifier with ROS Results:\")\n",
    "print(conf_matrix_rf)\n",
    "print(f\"Accuracy: {accuracy_score(y_val, y_val_pred_rf)}\")\n",
    "print(f\"Precision: {precision_score(y_val, y_val_pred_rf)}\")\n",
    "print(f\"Recall: {recall_score(y_val, y_val_pred_rf)}\")\n",
    "print(f\"F1 Score: {f1_score(y_val, y_val_pred_rf)}\")"
   ]
  },
  {
   "cell_type": "code",
   "execution_count": 40,
   "metadata": {},
   "outputs": [
    {
     "name": "stdout",
     "output_type": "stream",
     "text": [
      "\n",
      "Balanced Bagging Classifier with ROS Results:\n",
      "[[3419   36]\n",
      " [ 118   21]]\n",
      "Accuracy: 0.9571508069003896\n",
      "Precision: 0.3684210526315789\n",
      "Recall: 0.1510791366906475\n",
      "F1 Score: 0.21428571428571427\n"
     ]
    }
   ],
   "source": [
    "bbc_dt = BalancedBaggingClassifier(estimator=DecisionTreeClassifier(random_state=0), n_estimators=20, random_state=0)\n",
    "bbc_dt.fit(X_ros, y_ros)\n",
    "y_val_pred_dt = bbc_dt.predict(X_val)\n",
    "conf_matrix_dt = confusion_matrix(y_val, y_val_pred_dt)\n",
    "print(\"\\nBalanced Bagging Classifier with ROS Results:\")\n",
    "print(conf_matrix_dt)\n",
    "print(f\"Accuracy: {accuracy_score(y_val, y_val_pred_dt)}\")\n",
    "print(f\"Precision: {precision_score(y_val, y_val_pred_dt)}\")\n",
    "print(f\"Recall: {recall_score(y_val, y_val_pred_dt)}\")\n",
    "print(f\"F1 Score: {f1_score(y_val, y_val_pred_dt)}\")"
   ]
  }
 ],
 "metadata": {
  "kernelspec": {
   "display_name": "Python 3 (ipykernel)",
   "language": "python",
   "name": "python3"
  },
  "language_info": {
   "codemirror_mode": {
    "name": "ipython",
    "version": 3
   },
   "file_extension": ".py",
   "mimetype": "text/x-python",
   "name": "python",
   "nbconvert_exporter": "python",
   "pygments_lexer": "ipython3",
   "version": "3.11.4"
  }
 },
 "nbformat": 4,
 "nbformat_minor": 4
}
