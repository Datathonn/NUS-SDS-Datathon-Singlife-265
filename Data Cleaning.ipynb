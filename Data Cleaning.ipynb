{
 "cells": [
  {
   "cell_type": "code",
   "execution_count": 16,
   "id": "3d86525b",
   "metadata": {},
   "outputs": [],
   "source": [
    "# import data\n",
    "import pandas as pd\n",
    "import matplotlib.pyplot as plt\n",
    "\n",
    "df = pd.read_parquet('./data/catB_train.parquet')"
   ]
  },
  {
   "cell_type": "markdown",
   "id": "76da0b55",
   "metadata": {},
   "source": [
    "### General Client Information  \n",
    "• clntnum: Unique identifier for the client.  \n",
    "• race_desc: Description of the client's race.  \n",
    "• ctrycode_desc: Country code indicating the client's location.  \n",
    "• clttype: Customer status.  \n",
    "• **stat_flag**: Flag indicating ACTIVE, LAPSED or MATURED. E.g. if there’s at least one inforce policy, then the flag would be ACTIVE. If all of the client’s policies are all lapsed, then it is LAPSED.  \n",
    "• min_occ_date: Date of the client's first interaction or policy purchase with the company.  \n",
    "• **cltdob_fix**: Fixed or corrected date of birth of the client.  \n",
    "• **cltsex_fix**: Fixed or corrected gender of the client.  "
   ]
  },
  {
   "cell_type": "code",
   "execution_count": 5,
   "id": "d2bb09d5",
   "metadata": {},
   "outputs": [
    {
     "data": {
      "text/plain": [
       "{'ACTIVE', 'LAPSED', 'MATURED'}"
      ]
     },
     "execution_count": 5,
     "metadata": {},
     "output_type": "execute_result"
    }
   ],
   "source": [
    "# count classes of categorical variables\n",
    "set(df['stat_flag'].values.tolist())"
   ]
  },
  {
   "cell_type": "code",
   "execution_count": 7,
   "id": "96014cda",
   "metadata": {},
   "outputs": [
    {
     "data": {
      "text/plain": [
       "0"
      ]
     },
     "execution_count": 7,
     "metadata": {},
     "output_type": "execute_result"
    }
   ],
   "source": [
    "# check presence of missing value\n",
    "sum(pd.isnull(df['stat_flag']))"
   ]
  },
  {
   "cell_type": "code",
   "execution_count": 15,
   "id": "b9a1f8b8",
   "metadata": {},
   "outputs": [
    {
     "data": {
      "text/plain": [
       "{'C', 'G', 'P'}"
      ]
     },
     "execution_count": 15,
     "metadata": {},
     "output_type": "execute_result"
    }
   ],
   "source": [
    "set(df['clttype'].values.tolist())"
   ]
  },
  {
   "cell_type": "code",
   "execution_count": null,
   "id": "4c5ce7e2",
   "metadata": {},
   "outputs": [],
   "source": [
    "xpoints = np.array([1, 8])\n",
    "ypoints = np.array([3, 10])\n",
    "\n",
    "plt.plot(xpoints, ypoints)\n",
    "plt.show()"
   ]
  },
  {
   "cell_type": "markdown",
   "id": "34c8dad5",
   "metadata": {},
   "source": [
    "### Client Risk and Status Indicators  \n",
    "• flg_substandard: Flag for substandard risk clients.  \n",
    "• flg_is_borderline_standard: Flag for borderline standard risk clients.  \n",
    "• flg_is_revised_term: Flag if customer ever has revised terms.  \n",
    "• flg_is_rental_flat: Indicates if the client lives in a rental flat.  \n",
    "• flg_has_health_claim: Flag for clients with health insurance claims.  \n",
    "• flg_has_life_claim: Flag for clients with life insurance claims.  \n",
    "• flg_gi_claim: Flag for general insurance claims.  \n",
    "• flg_is_proposal: Indicates if there is a policy in proposal for client.  \n",
    "• flg_with_preauthorisation: Flag for clients with preauthorized transactions or policies.  \n",
    "• flg_is_returned_mail: Flag for returned mail instances.  "
   ]
  },
  {
   "cell_type": "markdown",
   "id": "8777922b",
   "metadata": {},
   "source": [
    "### Demographic and Household Information  \n",
    "• is_housewife_retiree, is_sg_pr, is_class_1_2: Flags indicating specific demographics like occupation, residency status, etc.  \n",
    "• is_dependent_in_at_least_1_policy: Indicates if the client is a dependent in at least one policy.  \n",
    "• hh_20, pop_20, hh_size, hh_size_est: Metrics related to household size and population.  \n",
    "• annual_income_est: Estimated annual income of the client, in buckets.  "
   ]
  },
  {
   "cell_type": "markdown",
   "id": "31bff5b9",
   "metadata": {},
   "source": [
    "### Policy and Claim History  \n",
    "• n_months_last_bought_products, flg_latest_being_lapse, flg_latest_being_cancel, recency_lapse, recency_cancel: Metrics related to the recency of policy purchases, lapses, and cancellations.  \n",
    "• tot_inforce_pols, tot_cancel_pols: Total number of in-force and canceled policies.  \n",
    "• f_ever_declined_la: Flag for clients has ever been declined policies.  "
   ]
  },
  {
   "cell_type": "markdown",
   "id": "7e84acfb",
   "metadata": {},
   "source": [
    "### Anonymized Insurance Product Metrics (APE, Sum Insured, Prepaid Premiums)  \n",
    "• ape_, sumins_, prempaid_* (e.g., ape_gi_42e115, sumins_ltc_1280bf, prempaid_grp_6fc3e6): Metrics for various anonymized insurance products, likely representing different types of policies like general insurance, long-term care, group policies, etc. The suffixes (like 42e115, 1280bf) are unique identifiers for the specific insurance products. ‘ape’ stands for Annual Premium Equivalent, 'sumins' for sum insured, ‘prempaid’ stands for premium customers will pay from product inception to product maturity.  "
   ]
  },
  {
   "cell_type": "markdown",
   "id": "d6823240",
   "metadata": {},
   "source": [
    "### Other Flags and Metrics  \n",
    "• f_elx, f_mindef_mha, f_retail: Flags possibly related to client's association with specific programs or sectors.  \n",
    "• flg_affconnect_*, affcon_visit_days, n_months_since_visit_affcon: Metrics related to client’s activity in affinity connect.  \n",
    "• clmcon_visit_days, recency_clmcon, recency_clmcon_regis: Metrics related to client’s activity in claim connect.  \n",
    "• hlthclaim_amt, giclaim_amt, recency_hlthclaim, recency_giclaim, hlthclaim_cnt_success, giclaim_cnt_success: Health and general insurance claim-related metrics.  \n",
    "• flg_hlthclaim_, flg_gi_claim_ (e.g., flg_hlthclaim_839f8a_ever, flg_gi_claim_29d435_ever): Flags for specific types of health and general insurance claims, with anonymized identifiers.  "
   ]
  },
  {
   "cell_type": "markdown",
   "id": "ac53e806",
   "metadata": {},
   "source": [
    "### Purchase and Lapse Metrics for Specific Products  \n",
    "• f_ever_bought_, n_months_last_bought_, lapse_ape_, n_months_since_lapse_ (e.g., f_ever_bought_839f8a, n_months_last_bought_grp_6fc3e6, lapse_ape_ltc_1280bf, n_months_since_lapse_inv_dcd836): Flags and metrics indicating purchase history, lapses, and time since last interaction for various anonymized insurance products.."
   ]
  },
  {
   "cell_type": "markdown",
   "id": "9bdd49c0",
   "metadata": {},
   "source": [
    "### Target Column\n",
    "• f_purchase_lh: Flag indicating whether a customer will purchase life or health insurance products within the next three months.  "
   ]
  }
 ],
 "metadata": {
  "kernelspec": {
   "display_name": "Python 3 (ipykernel)",
   "language": "python",
   "name": "python3"
  },
  "language_info": {
   "codemirror_mode": {
    "name": "ipython",
    "version": 3
   },
   "file_extension": ".py",
   "mimetype": "text/x-python",
   "name": "python",
   "nbconvert_exporter": "python",
   "pygments_lexer": "ipython3",
   "version": "3.11.5"
  }
 },
 "nbformat": 4,
 "nbformat_minor": 5
}
