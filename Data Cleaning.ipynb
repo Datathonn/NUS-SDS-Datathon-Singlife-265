{
 "cells": [
  {
   "cell_type": "code",
   "execution_count": 21,

   "id": "3d86525b",
   "metadata": {},
   "outputs": [],
   "source": [
    "# import data\n",
    "import pandas as pd\n",
    "import matplotlib.pyplot as plt\n",
    "\n",
    "df = pd.read_parquet('./data/catB_train.parquet')"
   ]
  },
  {
   "cell_type": "markdown",
   "id": "76da0b55",
   "metadata": {},
   "source": [
    "### General Client Information  \n",
    "• clntnum: Unique identifier for the client.  \n",
    "• race_desc: Description of the client's race.  \n",
    "• ctrycode_desc: Country code indicating the client's location.  \n",
    "• clttype: Customer status.  \n",
    "• **stat_flag**: Flag indicating ACTIVE, LAPSED or MATURED. E.g. if there’s at least one inforce policy, then the flag would be ACTIVE. If all of the client’s policies are all lapsed, then it is LAPSED.  \n",
    "• min_occ_date: Date of the client's first interaction or policy purchase with the company.  \n",
    "• **cltdob_fix**: Fixed or corrected date of birth of the client.  \n",
    "• **cltsex_fix**: Fixed or corrected gender of the client.  "
   ]
  },
  {
   "cell_type": "code",

   "execution_count": 5,
   "id": "d2bb09d5",
   "metadata": {},
   "outputs": [
    {
     "data": {
      "text/plain": [
       "{'ACTIVE', 'LAPSED', 'MATURED'}"
      ]
     },
     "execution_count": 3,
     "metadata": {},
     "output_type": "execute_result"
    }
   ],
   "source": [
    "# count classes of categorical variables\n",
    "set(df['stat_flag'].values.tolist())"
   ]
  },
  {
   "cell_type": "code",
   "execution_count": 4,
   "id": "f4efe332",

   "metadata": {},
   "outputs": [
    {
     "data": {
      "text/plain": [
       "0"
      ]
     },
     "execution_count": 4,
     "metadata": {},
     "output_type": "execute_result"
    }
   ],
   "source": [
    "# check presence of missing value\n",
    "sum(pd.isnull(df['stat_flag']))"
   ]
  },
  {
   "cell_type": "code",
   "execution_count": 7,
   "id": "0aa975ff",
   "metadata": {},
   "outputs": [
    {
     "name": "stdout",
     "output_type": "stream",
     "text": [
      "14717    1.0\n",
      "17470    1.0\n",
      "3481     1.0\n",
      "4189     1.0\n",
      "17969    1.0\n",
      "        ... \n",
      "19457    1.0\n",
      "12206    1.0\n",
      "18942    1.0\n",
      "8322     1.0\n",
      "11363    1.0\n",
      "Name: f_ever_declined_la, Length: 1233, dtype: float64\n"
     ]
    }
   ],
   "source": [
    "print(df[df['f_ever_declined_la'].notnull()]['f_ever_declined_la'])"

   ]
  },
  {
   "cell_type": "code",
   "execution_count": 3,
   "id": "2c85b5a2",
   "metadata": {},
   "outputs": [
    {
     "ename": "NameError",
     "evalue": "name 'df' is not defined",
     "output_type": "error",
     "traceback": [
      "\u001b[1;31m---------------------------------------------------------------------------\u001b[0m",
      "\u001b[1;31mNameError\u001b[0m                                 Traceback (most recent call last)",
      "Cell \u001b[1;32mIn[3], line 1\u001b[0m\n\u001b[1;32m----> 1\u001b[0m \u001b[38;5;28mset\u001b[39m(df[\u001b[38;5;124m'\u001b[39m\u001b[38;5;124mannual_income_est\u001b[39m\u001b[38;5;124m'\u001b[39m]\u001b[38;5;241m.\u001b[39mvalues\u001b[38;5;241m.\u001b[39mtolist())\n",
      "\u001b[1;31mNameError\u001b[0m: name 'df' is not defined"
     ]
    }
   ],
   "source": [
    "set(df['annual_income_est'].values.tolist())"
   ]
  },
  {
   "cell_type": "code",
   "execution_count": 5,
   "id": "7ef05247",
   "metadata": {},
   "outputs": [
    {
     "data": {
      "text/plain": [
       "{'C', 'G', 'P'}"
      ]
     },
     "execution_count": 5,
     "metadata": {},
     "output_type": "execute_result"
    }
   ],
   "source": [
    "set(df['clttype'].values.tolist())"
   ]
  },
  {
   "cell_type": "code",
   "execution_count": 34,
   "id": "f7efb732",
   "metadata": {},
   "outputs": [],
   "source": [
    "def analyze_binary_variable(df, column_name):\n",
    "    print(f\"Data type for {column_name}: {df[column_name].dtype}\")\n",
    "    # Print count of missing data\n",
    "    print(f\"Count of missing data for {column_name}: {sum(pd.isnull(df[column_name]))}\")\n",
    "\n",
    "    # Filter rows without missing values\n",
    "    df_no_missing = df[df[column_name].notnull()]\n",
    "\n",
    "    # Display count of each value\n",
    "    count_true = (df[column_name] == 1).sum()\n",
    "    count_false = (df[column_name] == 0).sum()\n",
    "    print(f\"Count of {column_name} being True (1): {count_true}\")\n",
    "    print(f\"Count of {column_name} being False (0): {count_false}\")\n",
    "\n",
    "    # Display unique values in the filtered DataFrame\n",
    "    unique_values = set(df_no_missing[column_name].values.tolist())\n",
    "    print(f\"Unique values for {column_name}: {unique_values}\")\n",
    "\n",
    "def analyze_numerical_variable(df, column_name):\n",
    "    print(f\"Data type for {column_name}: {df[column_name].dtype}\")\n",
    "    # Print count of missing data\n",
    "    print(f\"Count of missing data for {column_name}: {sum(pd.isnull(df[column_name]))}\")\n",
    "\n",
    "    # Filter rows without missing values\n",
    "    df_no_missing = df[df[column_name].notnull()]\n",
    "\n",
    "    result = {}\n",
    "\n",
    "    # Calculate mean\n",
    "    result['mean'] = df_no_missing[column_name].mean()\n",
    "\n",
    "    # Calculate median\n",
    "    result['median'] = df_no_missing[column_name].median()\n",
    "\n",
    "    # Calculate mode\n",
    "    result['mode'] = df_no_missing[column_name].mode()\n",
    "\n",
    "    # Calculate variance using pandas\n",
    "    result['variance'] = df_no_missing[column_name].var()\n",
    "\n",
    "    # Detect outliers using the IQR method\n",
    "    Q1 = df_no_missing[column_name].quantile(0.25)\n",
    "    Q3 = df_no_missing[column_name].quantile(0.75)\n",
    "    IQR = Q3 - Q1\n",
    "    lower_bound = Q1 - 5 * IQR\n",
    "    upper_bound = Q3 + 5 * IQR\n",
    "\n",
    "    outliers = df_no_missing[(df_no_missing[column_name] < lower_bound) | (df_no_missing[column_name] > upper_bound)]\n",
    "    outlier_values = df_no_missing.loc[(df_no_missing[column_name] < lower_bound) | (df_no_missing[column_name] > upper_bound), column_name].tolist()\n",
    "\n",
    "    result['outlier# Print the results'] = outlier_values\n",
    "    \n",
    "    #print(f\"Mean: {result_dict['mean']}\")\n",
    "    #print(f\"Median: {result_dict['median']}\")\n",
    "    #print(f\"Mode: {result_dict['mode']}\")\n",
    "    #print(f\"Variance: {result_dict['variance']}\")\n",
    "    #print(\"\\nOutliers:\")\n",
    "    #print(result_dict['outliers'])\n",
    "\n",
    "    return result"
    "xpoints = np.array([1, 8])\n",
    "ypoints = np.array([3, 10])\n",
    "\n",
    "plt.plot(xpoints, ypoints)\n",
    "plt.show()"

   ]
  },
  {
   "cell_type": "markdown",
   "id": "34c8dad5",
   "metadata": {},
   "source": [
    "### Client Risk and Status Indicators  \n",
    "• flg_substandard: Flag for substandard risk clients.  \n",
    "• flg_is_borderline_standard: Flag for borderline standard risk clients.  \n",
    "• flg_is_revised_term: Flag if customer ever has revised terms.  \n",
    "• flg_is_rental_flat: Indicates if the client lives in a rental flat.  \n",
    "• flg_has_health_claim: Flag for clients with health insurance claims.  \n",
    "• flg_has_life_claim: Flag for clients with life insurance claims.  \n",
    "• flg_gi_claim: Flag for general insurance claims.  \n",
    "• flg_is_proposal: Indicates if there is a policy in proposal for client.  \n",
    "• flg_with_preauthorisation: Flag for clients with preauthorized transactions or policies.  \n",
    "• flg_is_returned_mail: Flag for returned mail instances.  "
   ]
  },
  {
   "cell_type": "code",
   "execution_count": 12,
   "id": "a90851ea",
   "metadata": {},
   "outputs": [
    {
     "name": "stdout",
     "output_type": "stream",
     "text": [
      "Data type for flg_substandard: float64\n",
      "Count of missing data for flg_substandard: 1014\n",
      "Count of flg_substandard being True (1): 684\n",
      "Count of flg_substandard being False (0): 16294\n",
      "Unique values for flg_substandard: {0.0, 1.0}\n",
      "Data type for flg_is_borderline_standard: float64\n",
      "Count of missing data for flg_is_borderline_standard: 1014\n",
      "Count of flg_is_borderline_standard being True (1): 562\n",
      "Count of flg_is_borderline_standard being False (0): 16416\n",
      "Unique values for flg_is_borderline_standard: {0.0, 1.0}\n",
      "Data type for flg_is_revised_term: float64\n",
      "Count of missing data for flg_is_revised_term: 1014\n",
      "Count of flg_is_revised_term being True (1): 12\n",
      "Count of flg_is_revised_term being False (0): 16966\n",
      "Unique values for flg_is_revised_term: {0.0, 1.0}\n",
      "Data type for flg_has_health_claim: float64\n",
      "Count of missing data for flg_has_health_claim: 1014\n",
      "Count of flg_has_health_claim being True (1): 828\n",
      "Count of flg_has_health_claim being False (0): 16150\n",
      "Unique values for flg_has_health_claim: {0.0, 1.0}\n",
      "Data type for flg_has_life_claim: float64\n",
      "Count of missing data for flg_has_life_claim: 1014\n",
      "Count of flg_has_life_claim being True (1): 61\n",
      "Count of flg_has_life_claim being False (0): 16917\n",
      "Unique values for flg_has_life_claim: {0.0, 1.0}\n",
      "Data type for flg_gi_claim: float64\n",
      "Count of missing data for flg_gi_claim: 1014\n",
      "Count of flg_gi_claim being True (1): 565\n",
      "Count of flg_gi_claim being False (0): 16413\n",
      "Unique values for flg_gi_claim: {0.0, 1.0}\n",
      "Data type for flg_is_proposal: float64\n",
      "Count of missing data for flg_is_proposal: 1014\n",
      "Count of flg_is_proposal being True (1): 49\n",
      "Count of flg_is_proposal being False (0): 16929\n",
      "Unique values for flg_is_proposal: {0.0, 1.0}\n",
      "Data type for flg_with_preauthorisation: float64\n",
      "Count of missing data for flg_with_preauthorisation: 1014\n",
      "Count of flg_with_preauthorisation being True (1): 140\n",
      "Count of flg_with_preauthorisation being False (0): 16838\n",
      "Unique values for flg_with_preauthorisation: {0.0, 1.0}\n",
      "Data type for flg_is_rental_flat: float64\n",
      "Count of missing data for flg_is_rental_flat: 1014\n",
      "Count of flg_is_rental_flat being True (1): 213\n",
      "Count of flg_is_rental_flat being False (0): 16765\n",
      "Unique values for flg_is_rental_flat: {0.0, 1.0}\n",
      "Data type for flg_is_returned_mail: float64\n",
      "Count of missing data for flg_is_returned_mail: 1014\n",
      "Count of flg_is_returned_mail being True (1): 327\n",
      "Count of flg_is_returned_mail being False (0): 16651\n",
      "Unique values for flg_is_returned_mail: {0.0, 1.0}\n"
     ]
    }
   ],
   "source": [
    "analyze_binary_variable(df, 'flg_substandard')\n",
    "analyze_binary_variable(df, 'flg_is_borderline_standard')\n",
    "analyze_binary_variable(df, 'flg_is_revised_term')\n",
    "analyze_binary_variable(df, 'flg_has_health_claim')\n",
    "analyze_binary_variable(df, 'flg_has_life_claim')\n",
    "analyze_binary_variable(df, 'flg_gi_claim')\n",
    "analyze_binary_variable(df, 'flg_is_proposal')\n",
    "analyze_binary_variable(df, 'flg_with_preauthorisation')\n",
    "analyze_binary_variable(df, 'flg_is_rental_flat')\n",
    "analyze_binary_variable(df, 'flg_is_returned_mail')"
   ]
  },
  {
   "cell_type": "code",
   "execution_count": 11,
   "id": "39a0812d",
   "metadata": {},
   "outputs": [
    {
     "ename": "SyntaxError",
     "evalue": "unterminated string literal (detected at line 2) (3383224524.py, line 2)",
     "output_type": "error",
     "traceback": [
      "\u001b[1;36m  Cell \u001b[1;32mIn[11], line 2\u001b[1;36m\u001b[0m\n\u001b[1;33m    is_consent_to_mail, is_consent_to_email, is_consent_to_call, is_consent_to_sms: Flags indicating client's consent to various forms of communication.\u001b[0m\n\u001b[1;37m                                                                                                           ^\u001b[0m\n\u001b[1;31mSyntaxError\u001b[0m\u001b[1;31m:\u001b[0m unterminated string literal (detected at line 2)\n"
     ]
    }
   ],
   "source": [
    "### Client Consent and Communication Preferences\n",
    "is_consent_to_mail, is_consent_to_email, is_consent_to_call, is_consent_to_sms: Flags indicating client's consent to various forms of communication.\n",
    "is_valid_dm, is_valid_email: Flags indicating the validity of direct mail and email addresses."
   ]
  },
  {
   "cell_type": "code",
   "execution_count": 13,
   "id": "0d2d7e08",
   "metadata": {},
   "outputs": [
    {
     "name": "stdout",
     "output_type": "stream",
     "text": [
      "Data type for is_consent_to_mail: float64\n",
      "Count of missing data for is_consent_to_mail: 1014\n",
      "Count of is_consent_to_mail being True (1): 5463\n",
      "Count of is_consent_to_mail being False (0): 11515\n",
      "Unique values for is_consent_to_mail: {0.0, 1.0}\n",
      "Data type for is_consent_to_email: float64\n",
      "Count of missing data for is_consent_to_email: 1014\n",
      "Count of is_consent_to_email being True (1): 6502\n",
      "Count of is_consent_to_email being False (0): 10476\n",
      "Unique values for is_consent_to_email: {0.0, 1.0}\n",
      "Data type for is_consent_to_call: float64\n",
      "Count of missing data for is_consent_to_call: 1014\n",
      "Count of is_consent_to_call being True (1): 2023\n",
      "Count of is_consent_to_call being False (0): 14955\n",
      "Unique values for is_consent_to_call: {0.0, 1.0}\n",
      "Data type for is_consent_to_sms: float64\n",
      "Count of missing data for is_consent_to_sms: 1014\n",
      "Count of is_consent_to_sms being True (1): 4313\n",
      "Count of is_consent_to_sms being False (0): 12665\n",
      "Unique values for is_consent_to_sms: {0.0, 1.0}\n",
      "Data type for is_valid_dm: float64\n",
      "Count of missing data for is_valid_dm: 1014\n",
      "Count of is_valid_dm being True (1): 12119\n",
      "Count of is_valid_dm being False (0): 4859\n",
      "Unique values for is_valid_dm: {0.0, 1.0}\n",
      "Data type for is_valid_email: float64\n",
      "Count of missing data for is_valid_email: 1014\n",
      "Count of is_valid_email being True (1): 12622\n",
      "Count of is_valid_email being False (0): 4356\n",
      "Unique values for is_valid_email: {0.0, 1.0}\n"
     ]
    }
   ],
   "source": [
    "analyze_binary_variable(df, 'is_consent_to_mail')\n",
    "analyze_binary_variable(df, 'is_consent_to_email')\n",
    "analyze_binary_variable(df, 'is_consent_to_call')\n",
    "analyze_binary_variable(df, 'is_consent_to_sms')\n",
    "analyze_binary_variable(df, 'is_valid_dm')\n",
    "analyze_binary_variable(df, 'is_valid_email')"
   ]
  },
  {
   "cell_type": "markdown",
   "id": "8777922b",
   "metadata": {},
   "source": [
    "### Demographic and Household Information  \n",
    "• is_housewife_retiree, is_sg_pr, is_class_1_2: Flags indicating specific demographics like occupation, residency status, etc.  \n",
    "• is_dependent_in_at_least_1_policy: Indicates if the client is a dependent in at least one policy.  \n",
    "• hh_20, pop_20, hh_size, hh_size_est: Metrics related to household size and population.  \n",
    "• annual_income_est: Estimated annual income of the client, in buckets.  "
   ]
  },
  {
   "cell_type": "code",
   "execution_count": 5,
   "id": "cda49479",
   "metadata": {},
   "outputs": [
    {
     "name": "stdout",
     "output_type": "stream",
     "text": [
      "Data type for is_housewife_retiree: float64\n",
      "Count of missing data for is_housewife_retiree: 1014\n",
      "Count of is_housewife_retiree being True (1): 54\n",
      "Count of is_housewife_retiree being False (0): 16924\n",
      "Unique values for is_housewife_retiree: {0.0, 1.0}\n",
      "Data type for is_sg_pr: float64\n",
      "Count of missing data for is_sg_pr: 1014\n",
      "Count of is_sg_pr being True (1): 15593\n",
      "Count of is_sg_pr being False (0): 1385\n",
      "Unique values for is_sg_pr: {0.0, 1.0}\n",
      "Data type for is_class_1_2: float64\n",
      "Count of missing data for is_class_1_2: 1014\n",
      "Count of is_class_1_2 being True (1): 9051\n",
      "Count of is_class_1_2 being False (0): 7927\n",
      "Unique values for is_class_1_2: {0.0, 1.0}\n",
      "Data type for is_dependent_in_at_least_1_policy: float64\n",
      "Count of missing data for is_dependent_in_at_least_1_policy: 1014\n",
      "Count of is_dependent_in_at_least_1_policy being True (1): 0\n",
      "Count of is_dependent_in_at_least_1_policy being False (0): 16978\n",
      "Unique values for is_dependent_in_at_least_1_policy: {0.0}\n"
     ]
    }
   ],
   "source": [
    "analyze_binary_variable(df, 'is_housewife_retiree')\n",
    "analyze_binary_variable(df, 'is_sg_pr')\n",
    "analyze_binary_variable(df, 'is_class_1_2')\n",
    "analyze_binary_variable(df, 'is_dependent_in_at_least_1_policy')\n"
   ]
  },
  {
   "cell_type": "code",
   "execution_count": 70,
   "id": "7625d998",
   "metadata": {},
   "outputs": [
    {
     "name": "stdout",
     "output_type": "stream",
     "text": [
      "Count of missing data: 1014\n",
      "Count of not retired housewife: 16924\n",
      "Count of retired housewife: 54\n",
      "<class 'pandas.core.series.Series'>\n",
      "Index: 17992 entries, 19550 to 15795\n",
      "Series name: is_housewife_retiree\n",
      "Non-Null Count  Dtype  \n",
      "--------------  -----  \n",
      "16978 non-null  float64\n",
      "dtypes: float64(1)\n",
      "memory usage: 281.1 KB\n"
     ]
    }
   ],
   "source": [
    "# is_housewife_retiree\n",
    "\n",
    "print(f\"Count of missing data: {sum(pd.isnull(df['is_housewife_retiree']))}\") \n",
    "# Display rows without missing values\n",
    "df_no_missing = df[df['is_housewife_retiree'].notnull()]\n",
    "\n",
    "# Now, df_no_missing contains only the rows without missing values\n",
    "result = df_no_missing.loc[:, ['is_housewife_retiree']]\n",
    "count_no_missing = (df['is_housewife_retiree'] == 0).sum()\n",
    "count_housewife = (df['is_housewife_retiree'] == 1).sum()\n",
    "print(f\"Count of not retired housewife: {count_no_missing}\")\n",
    "print(f\"Count of retired housewife: {count_housewife}\")\n",
    "df['is_housewife_retiree'].info()"
   ]
  },
  {
   "cell_type": "code",
   "execution_count": 71,
   "id": "4f89640e",
   "metadata": {},
   "outputs": [
    {
     "name": "stdout",
     "output_type": "stream",
     "text": [
      "Count of missing data: 1014\n",
      "Count of not_pr: 1385\n",
      "Count of pr: 15593\n",
      "<class 'pandas.core.series.Series'>\n",
      "Index: 17992 entries, 19550 to 15795\n",
      "Series name: is_sg_pr\n",
      "Non-Null Count  Dtype  \n",
      "--------------  -----  \n",
      "16978 non-null  float64\n",
      "dtypes: float64(1)\n",
      "memory usage: 281.1 KB\n"
     ]
    }
   ],
   "source": [
    "# is_sg_pr\n",
    "print(f\"Count of missing data: {sum(pd.isnull(df['is_sg_pr']))}\") \n",
    "# Display rows without missing values\n",
    "df_no_missing_pr = df[df['is_sg_pr'].notnull()]\n",
    "\n",
    "# Now, df_no_missing contains only the rows without missing values\n",
    "result = df_no_missing_pr.loc[:, ['is_sg_pr']].sum()\n",
    "count_not_pr = (df['is_sg_pr'] == 0).sum()\n",
    "count_pr = (df['is_sg_pr'] == 1).sum()\n",
    "print(f\"Count of not_pr: {count_not_pr}\")\n",
    "print(f\"Count of pr: {count_pr}\")\n",
    "df['is_sg_pr'].info()"
   ]
  },
  {
   "cell_type": "code",
   "execution_count": 66,
   "id": "8f7a2731",
   "metadata": {},
   "outputs": [
    {
     "name": "stdout",
     "output_type": "stream",
     "text": [
      "Count of missing data: 1014\n",
      "Count of class 2: 9051\n",
      "Count of class 1: 7927\n",
      "<class 'pandas.core.series.Series'>\n",
      "Index: 17992 entries, 19550 to 15795\n",
      "Series name: is_class_1_2\n",
      "Non-Null Count  Dtype  \n",
      "--------------  -----  \n",
      "16978 non-null  float64\n",
      "dtypes: float64(1)\n",
      "memory usage: 281.1 KB\n"
     ]
    }
   ],
   "source": [
    "# is_class_1_2\n",
    "print(f\"Count of missing data: {sum(pd.isnull(df['is_class_1_2']))}\") \n",
    "\n",
    "# Display rows without missing values\n",
    "df_no_missing_class = df[df['is_class_1_2'].notnull()]\n",
    "\n",
    "# Now, df_no_missing contains only the rows without missing values\n",
    "result = df_no_missing_class.loc[:, ['is_class_1_2']]\n",
    "# set(df_no_missing_class['is_class_1_2'].values.tolist())\n",
    "count_class_2 = (df['is_class_1_2'] == 1).sum()\n",
    "count_class_1 = (df['is_class_1_2'] == 0).sum()\n",
    "print(f\"Count of class 2: {count_class_2}\")\n",
    "print(f\"Count of class 1: {count_class_1}\")\n",
    "df['is_class_1_2'].info()"
   ]
  },
  {
   "cell_type": "code",
   "execution_count": 64,
   "id": "1ebc1ced",
   "metadata": {},
   "outputs": [
    {
     "name": "stdout",
     "output_type": "stream",
     "text": [
      "Count of missing data: 1014\n",
      "Count of dependent: 0\n",
      "Count of independent: 16978\n",
      "<class 'pandas.core.series.Series'>\n",
      "Index: 17992 entries, 19550 to 15795\n",
      "Series name: is_dependent_in_at_least_1_policy\n",
      "Non-Null Count  Dtype  \n",
      "--------------  -----  \n",
      "16978 non-null  float64\n",
      "dtypes: float64(1)\n",
      "memory usage: 281.1 KB\n"
     ]
    },
    {
     "data": {
      "text/plain": [
       "{0.0}"
      ]
     },
     "execution_count": 64,
     "metadata": {},
     "output_type": "execute_result"
    }
   ],
   "source": [
    "# is_dependent_in_at_least_1_policy\n",
    "print(f\"Count of missing data: {sum(pd.isnull(df['is_dependent_in_at_least_1_policy']))}\") \n",
    "\n",
    "# Display rows without missing values\n",
    "df_no_missing_dependency = df[df['is_dependent_in_at_least_1_policy'].notnull()]\n",
    "\n",
    "# Now, df_no_missing contains only the rows without missing values\n",
    "result = df_no_missing_dependency.loc[:, ['is_dependent_in_at_least_1_policy']]\n",
    "# set(df_no_missing_class['is_class_1_2'].values.tolist())\n",
    "count_dependent = (df['is_dependent_in_at_least_1_policy'] == 1).sum()\n",
    "count_independent = (df['is_dependent_in_at_least_1_policy'] == 0).sum()\n",
    "print(f\"Count of dependent: {count_dependent}\")\n",
    "print(f\"Count of independent: {count_independent}\")\n",
    "df['is_dependent_in_at_least_1_policy'].info()\n",
    "set(df_no_missing_dependency['is_dependent_in_at_least_1_policy'].values.tolist())"
   ]
  },
  {
   "cell_type": "code",
   "execution_count": 94,
   "id": "be0879d8",
   "metadata": {},
   "outputs": [
    {
     "name": "stdout",
     "output_type": "stream",
     "text": [
      "Count of missing data: 2809\n",
      "Count of ABOVE200K: 2097\n",
      "Count of 100K-200K: 725\n",
      "Count of 60K-100K: 2679\n",
      "Count of 30K-60K: 1911\n",
      "Count of BELOW30K: 7771\n",
      "<class 'pandas.core.series.Series'>\n",
      "Index: 17992 entries, 19550 to 15795\n",
      "Series name: annual_income_est\n",
      "Non-Null Count  Dtype \n",
      "--------------  ----- \n",
      "15183 non-null  object\n",
      "dtypes: object(1)\n",
      "memory usage: 281.1+ KB\n"
     ]
    },
    {
     "data": {
      "text/plain": [
       "{'A.ABOVE200K', 'B.100K-200K', 'C.60K-100K', 'D.30K-60K', 'E.BELOW30K'}"
      ]
     },
     "execution_count": 94,
     "metadata": {},
     "output_type": "execute_result"
    }
   ],
   "source": [
    "# annual_income_est\n",
    "print(f\"Count of missing data: {sum(pd.isnull(df['annual_income_est']))}\") \n",
    "\n",
    "# Display rows without missing values\n",
    "df_no_missing_income = df[df['annual_income_est'].notnull()]\n",
    "\n",
    "# Now, df_no_missing contains only the rows without missing values\n",
    "result = df_no_missing_income.loc[:, ['annual_income_est']]\n",
    "# set(df_no_missing_class['is_class_1_2'].values.tolist())\n",
    "count_A = (df_no_missing_income['annual_income_est'].str.split('.').str[0] == 'A').sum()\n",
    "count_B = (df_no_missing_income['annual_income_est'].str.split('.').str[0] == 'B').sum()\n",
    "count_C = (df_no_missing_income['annual_income_est'].str.split('.').str[0] == 'C').sum()\n",
    "count_D = (df_no_missing_income['annual_income_est'].str.split('.').str[0] == 'D').sum()\n",
    "count_E = (df_no_missing_income['annual_income_est'].str.split('.').str[0] == 'E').sum()\n",
    "print(f\"Count of ABOVE200K: {count_A}\")\n",
    "print(f\"Count of 100K-200K: {count_B}\")\n",
    "print(f\"Count of 60K-100K: {count_C}\")\n",
    "print(f\"Count of 30K-60K: {count_D}\")\n",
    "print(f\"Count of BELOW30K: {count_E}\")\n",
    "df['annual_income_est'].info()\n",
    "set(df_no_missing_dependency['annual_income_est'].values.tolist())"
   ]
  },
  {
   "cell_type": "code",
   "execution_count": 26,
   "id": "2fb573d7",
   "metadata": {},
   "outputs": [
    {
     "name": "stdout",
     "output_type": "stream",
     "text": [
      "Count of ABOVE200K: 141\n",
      "Count of 100K-200K: 43\n",
      "Count of 60K-100K: 140\n",
      "Count of 30K-60K: 80\n",
      "Count of BELOW30K: 287\n"
     ]
    }
   ],
   "source": [
    "# f_purchase_lh\n",
    "df_no_missing_purchase = df[df['f_purchase_lh'].notnull()]\n",
    "result_purchase = df_no_missing_purchase.loc[:, ['annual_income_est']]\n",
    "count_A = (df_no_missing_purchase['annual_income_est'].str.split('.').str[0] == 'A').sum()\n",
    "count_B = (df_no_missing_purchase['annual_income_est'].str.split('.').str[0] == 'B').sum()\n",
    "count_C = (df_no_missing_purchase['annual_income_est'].str.split('.').str[0] == 'C').sum()\n",
    "count_D = (df_no_missing_purchase['annual_income_est'].str.split('.').str[0] == 'D').sum()\n",
    "count_E = (df_no_missing_purchase['annual_income_est'].str.split('.').str[0] == 'E').sum()\n",
    "print(f\"Count of ABOVE200K: {count_A}\")\n",
    "print(f\"Count of 100K-200K: {count_B}\")\n",
    "print(f\"Count of 60K-100K: {count_C}\")\n",
    "print(f\"Count of 30K-60K: {count_D}\")\n",
    "print(f\"Count of BELOW30K: {count_E}\")"
   ]
  },
  {
   "cell_type": "markdown",
   "id": "31bff5b9",
   "metadata": {},
   "source": [
    "### Policy and Claim History  \n",
    "• n_months_last_bought_products, flg_latest_being_lapse, flg_latest_being_cancel, recency_lapse, recency_cancel: Metrics related to the recency of policy purchases, lapses, and cancellations.  \n",
    "• tot_inforce_pols, tot_cancel_pols: Total number of in-force and canceled policies.  \n",
    "• f_ever_declined_la: Flag for clients has ever been declined policies.  "
   ]
  },
  {
   "cell_type": "code",
   "execution_count": 40,
   "id": "866136cb",
   "metadata": {
    "scrolled": false
   },
   "outputs": [
    {
     "name": "stdout",
     "output_type": "stream",
     "text": [
      "Data type for flg_latest_being_lapse: int64\n",
      "Count of missing data for flg_latest_being_lapse: 0\n",
      "Count of flg_latest_being_lapse being True (1): 1734\n",
      "Count of flg_latest_being_lapse being False (0): 16258\n",
      "Unique values for flg_latest_being_lapse: {0, 1}\n",
      "Data type for flg_latest_being_cancel: int64\n",
      "Count of missing data for flg_latest_being_cancel: 0\n",
      "Count of flg_latest_being_cancel being True (1): 131\n",
      "Count of flg_latest_being_cancel being False (0): 17861\n",
      "Unique values for flg_latest_being_cancel: {0, 1}\n",
      "Data type for f_ever_declined_la: float64\n",
      "Count of missing data for f_ever_declined_la: 16759\n",
      "Count of f_ever_declined_la being True (1): 1233\n",
      "Count of f_ever_declined_la being False (0): 0\n",
      "Unique values for f_ever_declined_la: {1.0}\n"
     ]
    }
   ],
   "source": [
    "analyze_binary_variable(df, 'flg_latest_being_lapse')\n",
    "analyze_binary_variable(df, 'flg_latest_being_cancel')\n",
    "analyze_binary_variable(df, 'f_ever_declined_la')\n"
   ]
  },
  {
   "cell_type": "code",
   "execution_count": 39,
   "id": "90dbffe5",
   "metadata": {},
   "outputs": [
    {
     "name": "stdout",
     "output_type": "stream",
     "text": [
      "Data type for n_months_last_bought_products: int64\n",
      "Count of missing data for n_months_last_bought_products: 0\n"
     ]
    },
    {
     "data": {
      "text/plain": [
       "{'mean': 27.877464788732393,\n",
       " 'median': 10.0,\n",
       " 'mode': 0    2\n",
       " Name: n_months_last_bought_products, dtype: int64,\n",
       " 'variance': 1712.8354575975,\n",
       " 'outlier# Print the results': [235, 206, 211, 309, 341, 210, 256]}"
      ]
     },
     "execution_count": 39,
     "metadata": {},
     "output_type": "execute_result"
    }
   ],
   "source": [
    "analyze_numerical_variable(df_no_missing_purchase,'n_months_last_bought_products')"
   ]
  },
  {
   "cell_type": "code",
   "execution_count": 38,
   "id": "f3a0fa96",
   "metadata": {},
   "outputs": [
    {
     "name": "stdout",
     "output_type": "stream",
     "text": [
      "Data type for recency_lapse: float64\n",
      "Count of missing data for recency_lapse: 304\n"
     ]
    },
    {
     "data": {
      "text/plain": [
       "{'mean': 41.08620689655172,\n",
       " 'median': 14.0,\n",
       " 'mode': 0    3.0\n",
       " Name: recency_lapse, dtype: float64,\n",
       " 'variance': 3239.2937845891865,\n",
       " 'outlier# Print the results': [487.0, 394.0]}"
      ]
     },
     "execution_count": 38,
     "metadata": {},
     "output_type": "execute_result"
    }
   ],
   "source": [
    "analyze_numerical_variable(df_no_missing_purchase,'recency_lapse')\n"
   ]
  },
  {
   "cell_type": "code",
   "execution_count": 37,
   "id": "7a7e3c1c",
   "metadata": {},
   "outputs": [
    {
     "name": "stdout",
     "output_type": "stream",
     "text": [
      "Data type for recency_cancel: float64\n",
      "Count of missing data for recency_cancel: 635\n"
     ]
    },
    {
     "data": {
      "text/plain": [
       "{'mean': 38.973333333333336,\n",
       " 'median': 37.0,\n",
       " 'mode': 0    13.0\n",
       " 1    41.0\n",
       " Name: recency_cancel, dtype: float64,\n",
       " 'variance': 926.3506306306309,\n",
       " 'outlier# Print the results': []}"
      ]
     },
     "execution_count": 37,
     "metadata": {},
     "output_type": "execute_result"
    }
   ],
   "source": [
    "analyze_numerical_variable(df_no_missing_purchase,'recency_cancel')"
   ]
  },
  {
   "cell_type": "code",
   "execution_count": null,
   "id": "ddec8abd",
   "metadata": {},
   "outputs": [],
   "source": []
  },
  {
   "cell_type": "markdown",
   "id": "7e84acfb",
   "metadata": {},
   "source": [
    "### Anonymized Insurance Product Metrics (APE, Sum Insured, Prepaid Premiums)  \n",
    "• ape_, sumins_, prempaid_* (e.g., ape_gi_42e115, sumins_ltc_1280bf, prempaid_grp_6fc3e6): Metrics for various anonymized insurance products, likely representing different types of policies like general insurance, long-term care, group policies, etc. The suffixes (like 42e115, 1280bf) are unique identifiers for the specific insurance products. ‘ape’ stands for Annual Premium Equivalent, 'sumins' for sum insured, ‘prempaid’ stands for premium customers will pay from product inception to product maturity.  "
   ]
  },
  {
   "cell_type": "markdown",
   "id": "d6823240",
   "metadata": {},
   "source": [
    "### Other Flags and Metrics  \n",
    "• f_elx, f_mindef_mha, f_retail: Flags possibly related to client's association with specific programs or sectors.  \n",
    "• flg_affconnect_*, affcon_visit_days, n_months_since_visit_affcon: Metrics related to client’s activity in affinity connect.  \n",
    "• clmcon_visit_days, recency_clmcon, recency_clmcon_regis: Metrics related to client’s activity in claim connect.  \n",
    "• hlthclaim_amt, giclaim_amt, recency_hlthclaim, recency_giclaim, hlthclaim_cnt_success, giclaim_cnt_success: Health and general insurance claim-related metrics.  \n",
    "• flg_hlthclaim_, flg_gi_claim_ (e.g., flg_hlthclaim_839f8a_ever, flg_gi_claim_29d435_ever): Flags for specific types of health and general insurance claims, with anonymized identifiers.  "
   ]
  },
  {
   "cell_type": "markdown",
   "id": "ac53e806",
   "metadata": {},
   "source": [
    "### Purchase and Lapse Metrics for Specific Products  \n",
    "• f_ever_bought_, n_months_last_bought_, lapse_ape_, n_months_since_lapse_ (e.g., f_ever_bought_839f8a, n_months_last_bought_grp_6fc3e6, lapse_ape_ltc_1280bf, n_months_since_lapse_inv_dcd836): Flags and metrics indicating purchase history, lapses, and time since last interaction for various anonymized insurance products.."
   ]
  },
  {
   "cell_type": "markdown",
   "id": "9bdd49c0",
   "metadata": {},
   "source": [
    "### Target Column\n",
    "• f_purchase_lh: Flag indicating whether a customer will purchase life or health insurance products within the next three months.  "
   ]
  }
 ],
 "metadata": {
  "kernelspec": {
   "display_name": "Python 3 (ipykernel)",
   "language": "python",
   "name": "python3"
  },
  "language_info": {
   "codemirror_mode": {
    "name": "ipython",
    "version": 3
   },
   "file_extension": ".py",
   "mimetype": "text/x-python",
   "name": "python",
   "nbconvert_exporter": "python",
   "pygments_lexer": "ipython3",
   "version": "3.11.5"
  }
 },
 "nbformat": 4,
 "nbformat_minor": 5
}
