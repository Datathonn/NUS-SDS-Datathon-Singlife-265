{
 "cells": [
  {
   "cell_type": "code",
   "execution_count": 1,
   "id": "3d86525b",
   "metadata": {},
   "outputs": [],
   "source": [
    "import pandas as pd\n",
    "\n",
    "df = pd.read_parquet('catB_train.parquet')"
   ]
  },
  {
   "cell_type": "code",
   "execution_count": 2,
   "id": "60e17d31",
   "metadata": {},
   "outputs": [],
   "source": [
    "# Add new feature Age\n",
    "df = df[df['cltdob_fix']!='None']\n",
    "df['cltdob_fix'] = pd.to_datetime(df.iloc[:, 6], format ='mixed')\n",
    "df['age'] = 2024-df['cltdob_fix'].dt.year"
   ]
  },
  {
   "cell_type": "code",
   "execution_count": 3,
   "id": "449d2d9f",
   "metadata": {},
   "outputs": [],
   "source": [
    "df = df[df['cltdob_fix']!='None']\n",
    "df['cltdob_fix'] = pd.to_datetime(df.iloc[:, 6], format ='mixed')\n",
    "df['age'] = 2024-df['cltdob_fix'].dt.year\n",
    "\n",
    "df[\"f_purchase_lh\"] = df[\"f_purchase_lh\"].fillna(0)\n",
    "y = df[\"f_purchase_lh\"]\n",
    "X = df.drop(columns=['f_purchase_lh'])\n",
    "\n",
    "numeric_cols = X.select_dtypes(include=[\"int32\", \"int64\", \"float64\"]).columns\n",
    "X_numeric = X[numeric_cols]\n",
    "X_numeric = X_numeric.apply(lambda x: x.fillna(-1))\n",
    "\n",
    "non_numeric_cols = X.select_dtypes(include=[\"string\", \"object\"]).columns\n",
    "non_numeric_keep = []\n",
    "for col in non_numeric_cols:\n",
    "    if len(X[col].unique()) <= 5:\n",
    "        if len(X[col].unique()) > 1:\n",
    "            non_numeric_keep.append(col)\n",
    "X_non_numeric = pd.get_dummies(X[non_numeric_keep], dtype=float)\n",
    "\n",
    "X = pd.concat([X_numeric, X_non_numeric], axis=1)\n",
    "\n",
    "from sklearn.feature_selection import VarianceThreshold\n",
    "sel = VarianceThreshold(threshold=(0.05))\n",
    "sel.fit(X)\n",
    "X = X[X.columns.values[sel.get_support()]]"
   ]
  },
  {
   "cell_type": "code",
   "execution_count": 4,
   "id": "de67caf6",
   "metadata": {},
   "outputs": [],
   "source": [
    "from imblearn.over_sampling import SMOTE\n",
    "from sklearn.model_selection import train_test_split\n",
    "\n",
    "X_train, X_val, y_train, y_val = train_test_split(X, y, test_size=0.2, random_state=0)\n",
    "\n",
    "smote = SMOTE(random_state=0)\n",
    "X_resampled_smote, y_resampled_smote = smote.fit_resample(X, y)"
   ]
  },
  {
   "cell_type": "code",
   "execution_count": 8,
   "id": "7dbdcdfb",
   "metadata": {},
   "outputs": [
    {
     "name": "stdout",
     "output_type": "stream",
     "text": [
      "\n",
      "Random Forest Results:\n",
      "Best Hyperparameters: {'max_depth': None, 'min_samples_leaf': 1, 'min_samples_split': 2}\n",
      "Accuracy: 0.9994435169727324\n",
      "Confusion Matrix:\n",
      "[[3448    0]\n",
      " [   2  144]]\n",
      "F1 Score: 0.993103448275862\n",
      "Precision: 1.0\n",
      "Recall: 0.9863013698630136\n"
     ]
    }
   ],
   "source": []
  }
 ],
 "metadata": {
  "kernelspec": {
   "display_name": "Python 3 (ipykernel)",
   "language": "python",
   "name": "python3"
  },
  "language_info": {
   "codemirror_mode": {
    "name": "ipython",
    "version": 3
   },
   "file_extension": ".py",
   "mimetype": "text/x-python",
   "name": "python",
   "nbconvert_exporter": "python",
   "pygments_lexer": "ipython3",
   "version": "3.11.4"
  }
 },
 "nbformat": 4,
 "nbformat_minor": 5
}
