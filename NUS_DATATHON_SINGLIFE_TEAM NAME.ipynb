{
 "cells": [
  {
   "cell_type": "code",
   "execution_count": 8,
   "id": "3d86525b",
   "metadata": {},
   "outputs": [
    {
     "name": "stdout",
     "output_type": "stream",
     "text": [
      "       flg_substandard  flg_is_borderline_standard  flg_is_revised_term  \\\n",
      "count     16978.000000                16978.000000         16978.000000   \n",
      "mean          0.040287                    0.033102             0.000707   \n",
      "std           0.196638                    0.178907             0.026577   \n",
      "min           0.000000                    0.000000             0.000000   \n",
      "25%           0.000000                    0.000000             0.000000   \n",
      "50%           0.000000                    0.000000             0.000000   \n",
      "75%           0.000000                    0.000000             0.000000   \n",
      "max           1.000000                    1.000000             1.000000   \n",
      "\n",
      "       flg_is_rental_flat  flg_has_health_claim  flg_has_life_claim  \\\n",
      "count        16978.000000          16978.000000        16978.000000   \n",
      "mean             0.012546              0.048769            0.003593   \n",
      "std              0.111306              0.215391            0.059835   \n",
      "min              0.000000              0.000000            0.000000   \n",
      "25%              0.000000              0.000000            0.000000   \n",
      "50%              0.000000              0.000000            0.000000   \n",
      "75%              0.000000              0.000000            0.000000   \n",
      "max              1.000000              1.000000            1.000000   \n",
      "\n",
      "       flg_gi_claim  flg_is_proposal  flg_with_preauthorisation  \\\n",
      "count  16978.000000     16978.000000               16978.000000   \n",
      "mean       0.033278         0.002886                   0.008246   \n",
      "std        0.179368         0.053646                   0.090435   \n",
      "min        0.000000         0.000000                   0.000000   \n",
      "25%        0.000000         0.000000                   0.000000   \n",
      "50%        0.000000         0.000000                   0.000000   \n",
      "75%        0.000000         0.000000                   0.000000   \n",
      "max        1.000000         1.000000                   1.000000   \n",
      "\n",
      "       flg_is_returned_mail  ...  hlthclaim_cnt_success  \\\n",
      "count          16978.000000  ...            1277.000000   \n",
      "mean               0.019260  ...               7.802662   \n",
      "std                0.137442  ...              16.005638   \n",
      "min                0.000000  ...               1.000000   \n",
      "25%                0.000000  ...               2.000000   \n",
      "50%                0.000000  ...               3.000000   \n",
      "75%                0.000000  ...               8.000000   \n",
      "max                1.000000  ...             219.000000   \n",
      "\n",
      "       recency_hlthclaim_success  hlthclaim_cnt_unsuccess  \\\n",
      "count                1277.000000               610.000000   \n",
      "mean                   40.870008                 2.455738   \n",
      "std                    35.084520                 3.694247   \n",
      "min                     0.000000                 1.000000   \n",
      "25%                    10.000000                 1.000000   \n",
      "50%                    31.000000                 2.000000   \n",
      "75%                    67.000000                 3.000000   \n",
      "max                   126.000000                68.000000   \n",
      "\n",
      "       recency_hlthclaim_unsuccess  flg_hlthclaim_839f8a_ever  \\\n",
      "count                   610.000000                      285.0   \n",
      "mean                     49.409836                        1.0   \n",
      "std                      34.932248                        0.0   \n",
      "min                       0.000000                        1.0   \n",
      "25%                      18.000000                        1.0   \n",
      "50%                      45.000000                        1.0   \n",
      "75%                      78.000000                        1.0   \n",
      "max                     126.000000                        1.0   \n",
      "\n",
      "       recency_hlthclaim_839f8a  flg_hlthclaim_14cb37_ever  \\\n",
      "count                285.000000                     1375.0   \n",
      "mean                  46.077193                        1.0   \n",
      "std                   34.288046                        0.0   \n",
      "min                    0.000000                        1.0   \n",
      "25%                   18.000000                        1.0   \n",
      "50%                   42.000000                        1.0   \n",
      "75%                   72.000000                        1.0   \n",
      "max                  124.000000                        1.0   \n",
      "\n",
      "       recency_hlthclaim_14cb37  recency_giclaim  f_purchase_lh  \n",
      "count               1375.000000       448.000000          710.0  \n",
      "mean                  42.176000        39.997768            1.0  \n",
      "std                   35.548718        30.329252            0.0  \n",
      "min                    0.000000         0.000000            1.0  \n",
      "25%                   11.000000        12.000000            1.0  \n",
      "50%                   33.000000        40.000000            1.0  \n",
      "75%                   68.000000        58.000000            1.0  \n",
      "max                  126.000000       144.000000            1.0  \n",
      "\n",
      "[8 rows x 90 columns]\n"
     ]
    }
   ],
   "source": [
    "import pandas as pd\n",
    "df = pd.read_parquet('catB_train.parquet')\n",
    "#print(df.head())\n",
    "#print(df.columns)\n",
    "#print(df.shape)\n",
    "print(df.describe())"
   ]
  },
  {
   "cell_type": "code",
   "execution_count": 9,
   "id": "ae6cfc33",
   "metadata": {},
   "outputs": [
    {
     "name": "stdout",
     "output_type": "stream",
     "text": [
      "E:\\uni\\datathon\\catB_train.parquet.gpg\n",
      "E:\\uni\\datathon\\catB_train.parquet.gpg\n"
     ]
    }
   ],
   "source": [
    "import os\n",
    "print(os.getcwd())\n",
    "new_directory = 'E:/uni/datathon/catB_train.parquet.gpg'\n",
    "os.chdir(new_directory)\n",
    "print(os.getcwd())"
   ]
  },
  {
   "cell_type": "code",
   "execution_count": 10,
   "id": "748bcfec",
   "metadata": {},
   "outputs": [
    {
     "name": "stdout",
     "output_type": "stream",
     "text": [
      "Numerical Columns:\n",
      "Index(['flg_substandard', 'flg_is_borderline_standard', 'flg_is_revised_term',\n",
      "       'flg_is_rental_flat', 'flg_has_health_claim', 'flg_has_life_claim',\n",
      "       'flg_gi_claim', 'flg_is_proposal', 'flg_with_preauthorisation',\n",
      "       'flg_is_returned_mail', 'is_consent_to_mail', 'is_consent_to_email',\n",
      "       'is_consent_to_call', 'is_consent_to_sms', 'is_valid_dm',\n",
      "       'is_valid_email', 'is_housewife_retiree', 'is_sg_pr', 'is_class_1_2',\n",
      "       'is_dependent_in_at_least_1_policy', 'f_ever_declined_la', 'hh_size',\n",
      "       'n_months_last_bought_products', 'flg_latest_being_lapse',\n",
      "       'flg_latest_being_cancel', 'recency_lapse', 'recency_cancel',\n",
      "       'tot_inforce_pols', 'tot_cancel_pols', 'f_hold_839f8a', 'f_hold_e22a6a',\n",
      "       'f_hold_d0adeb', 'f_hold_c4bda5', 'f_hold_ltc', 'f_hold_507c37',\n",
      "       'f_hold_gi', 'f_ever_bought_839f8a', 'f_ever_bought_e22a6a',\n",
      "       'f_ever_bought_d0adeb', 'f_ever_bought_c4bda5', 'f_ever_bought_ltc',\n",
      "       'f_ever_bought_507c37', 'f_ever_bought_gi', 'f_ever_bought_ltc_1280bf',\n",
      "       'f_ever_bought_grp_6fc3e6', 'f_ever_bought_grp_de05ae',\n",
      "       'f_ever_bought_inv_dcd836', 'f_ever_bought_grp_945b5a',\n",
      "       'f_ever_bought_grp_6a5788', 'f_ever_bought_ltc_43b9d5',\n",
      "       'f_ever_bought_grp_9cdedf', 'f_ever_bought_lh_d0adeb',\n",
      "       'f_ever_bought_grp_1581d7', 'f_ever_bought_grp_22decf',\n",
      "       'f_ever_bought_lh_507c37', 'f_ever_bought_lh_839f8a',\n",
      "       'f_ever_bought_inv_e9f316', 'f_ever_bought_grp_caa6ff',\n",
      "       'f_ever_bought_grp_fd3bfb', 'f_ever_bought_lh_e22a6a',\n",
      "       'f_ever_bought_grp_70e1dd', 'f_ever_bought_grp_e04c3a',\n",
      "       'f_ever_bought_grp_fe5fb8', 'f_ever_bought_grp_94baec',\n",
      "       'f_ever_bought_grp_e91421', 'f_ever_bought_lh_f852af',\n",
      "       'f_ever_bought_lh_947b15', 'f_ever_bought_32c74c', 'f_elx',\n",
      "       'f_mindef_mha', 'f_retail', 'flg_affconnect_show_interest_ever',\n",
      "       'flg_affconnect_ready_to_buy_ever', 'flg_affconnect_lapse_ever',\n",
      "       'affcon_visit_days', 'n_months_since_visit_affcon', 'clmcon_visit_days',\n",
      "       'recency_clmcon', 'recency_clmcon_regis', 'recency_hlthclaim',\n",
      "       'hlthclaim_cnt_success', 'recency_hlthclaim_success',\n",
      "       'hlthclaim_cnt_unsuccess', 'recency_hlthclaim_unsuccess',\n",
      "       'flg_hlthclaim_839f8a_ever', 'recency_hlthclaim_839f8a',\n",
      "       'flg_hlthclaim_14cb37_ever', 'recency_hlthclaim_14cb37',\n",
      "       'recency_giclaim', 'f_purchase_lh'],\n",
      "      dtype='object')\n"
     ]
    }
   ],
   "source": [
    "numerical_columns = df.select_dtypes(include=['number']).columns\n",
    "\n",
    "# Print the names of numerical columns\n",
    "print(\"Numerical Columns:\")\n",
    "print(numerical_columns)"
   ]
  }
 ],
 "metadata": {
  "kernelspec": {
   "display_name": "Python 3 (ipykernel)",
   "language": "python",
   "name": "python3"
  },
  "language_info": {
   "codemirror_mode": {
    "name": "ipython",
    "version": 3
   },
   "file_extension": ".py",
   "mimetype": "text/x-python",
   "name": "python",
   "nbconvert_exporter": "python",
   "pygments_lexer": "ipython3",
   "version": "3.9.9"
  }
 },
 "nbformat": 4,
 "nbformat_minor": 5
}
