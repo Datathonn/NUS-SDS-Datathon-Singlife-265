{
 "cells": [
  {
   "cell_type": "code",
   "execution_count": 18,
   "id": "cc2e3a3e-033f-489a-85bb-e0a0c9fcbedb",
   "metadata": {},
   "outputs": [],
   "source": [
    "import pandas as pd\n",
    "import numpy as np\n",
    "import matplotlib.pyplot as plt\n",
    "\n",
    "df = pd.read_parquet('./data/catB_train.parquet')"
   ]
  },
  {
   "cell_type": "code",
   "execution_count": 19,
   "id": "633a3f65-bf2a-4401-a0ed-9334cfa497fd",
   "metadata": {},
   "outputs": [],
   "source": [
    "df = df[df['cltdob_fix']!='None']\n",
    "df['cltdob_fix'] = pd.to_datetime(df.iloc[:, 6], format ='mixed')\n",
    "df['age'] = 2024-df['cltdob_fix'].dt.year\n",
    "\n",
    "df[\"f_purchase_lh\"] = df[\"f_purchase_lh\"].fillna(0)\n",
    "y = df[\"f_purchase_lh\"]\n",
    "X = df.drop(columns=['f_purchase_lh'])\n",
    "\n",
    "numeric_cols = X.select_dtypes(include=[\"int32\", \"int64\", \"float64\"]).columns\n",
    "X_numeric = X[numeric_cols]\n",
    "X_numeric = X_numeric.apply(lambda x: x.fillna(-1))\n",
    "\n",
    "non_numeric_cols = X.select_dtypes(include=[\"string\", \"object\"]).columns\n",
    "non_numeric_keep = []\n",
    "for col in non_numeric_cols:\n",
    "    if len(X[col].unique()) <= 5:\n",
    "        if len(X[col].unique()) > 1:\n",
    "            non_numeric_keep.append(col)\n",
    "X_non_numeric = pd.get_dummies(X[non_numeric_keep], dtype=float)\n",
    "\n",
    "X = pd.concat([X_numeric, X_non_numeric], axis=1)\n",
    "\n",
    "from sklearn.feature_selection import VarianceThreshold\n",
    "sel = VarianceThreshold(threshold=(0.05))\n",
    "sel.fit(X)\n",
    "X = X[X.columns.values[sel.get_support()]]"
   ]
  },
  {
   "cell_type": "code",
   "execution_count": 20,
   "id": "63746541-bb52-4087-a25c-74f402151e43",
   "metadata": {},
   "outputs": [],
   "source": [
    "# use SMOTE/adasyn to handle imbalance\n",
    "from collections import Counter\n",
    "from imblearn.over_sampling import SMOTE\n",
    "from sklearn.model_selection import train_test_split\n",
    "from imblearn.over_sampling import ADASYN\n",
    "\n",
    "X_train, X_val, y_train, y_val = train_test_split(X, y, test_size=0.2, random_state=0)\n",
    "\n",
    "smote = SMOTE(random_state=0)\n",
    "X_resampled_smote, y_resampled_smote = smote.fit_resample(X, y)\n",
    "\n",
    "adasyn = ADASYN(random_state=0)\n",
    "X_resampled_adasyn, y_resampled_adasyn = adasyn.fit_resample(X, y)\n",
    "\n",
    "X_train, X_val, y_train, y_val = train_test_split(X, y, test_size=0.2, random_state=0)\n",
    "X_train_smote, X_val_smote, y_train_smote, y_val_smote = train_test_split(X_resampled_smote, y_resampled_smote, test_size=0.2, random_state=0)\n",
    "X_train_adasyn, X_val_adasyn, y_train_adasyn, y_val_adasyn = train_test_split(X_resampled_adasyn, y_resampled_adasyn, test_size=0.2, random_state=0)\n",
    "\n"
   ]
  },
  {
   "cell_type": "markdown",
   "id": "38604a00-2610-433f-89f5-c1e3fe856e61",
   "metadata": {},
   "source": [
    "Random Forest w grid search"
   ]
  },
  {
   "cell_type": "code",
   "execution_count": 28,
   "id": "650d27ca-b92a-4bdc-bcbe-28c5ac7ce70f",
   "metadata": {
    "scrolled": true
   },
   "outputs": [
    {
     "name": "stdout",
     "output_type": "stream",
     "text": [
      "\n",
      "Random Forest Results:\n",
      "Best Hyperparameters: {'max_depth': 20, 'min_samples_leaf': 4, 'min_samples_split': 2}\n",
      "Accuracy: 0.9401780745687257\n",
      "Confusion Matrix:\n",
      "[[3339  109]\n",
      " [ 106   40]]\n",
      "F1 Score: 0.2711864406779661\n",
      "Precision: 0.2684563758389262\n",
      "Recall: 0.273972602739726\n",
      "CPU times: total: 12 s\n",
      "Wall time: 12.7 s\n"
     ]
    }
   ],
   "source": [
    "%%time\n",
    "from sklearn.model_selection import train_test_split, GridSearchCV\n",
    "from sklearn.tree import DecisionTreeClassifier\n",
    "from sklearn.ensemble import RandomForestClassifier\n",
    "from sklearn.metrics import accuracy_score, confusion_matrix, f1_score,precision_score, recall_score\n",
    "\n",
    "X_train, X_val, y_train, y_val = train_test_split(X, y, test_size=0.2, random_state=0)\n",
    "\n",
    "rf_model = RandomForestClassifier(n_estimators=15, random_state=15, class_weight='balanced')\n",
    "\n",
    "param_grid = {\n",
    "    'max_depth': [None, 10, 20],\n",
    "    'min_samples_split': [2, 5, 10],\n",
    "    'min_samples_leaf': [1, 2, 4]\n",
    "}\n",
    "\n",
    "\n",
    "# Grid Search for Random Forest\n",
    "grid_search_rf = GridSearchCV(estimator=rf_model, param_grid=param_grid, scoring='f1', cv=3)\n",
    "grid_search_rf.fit(X_train, y_train)\n",
    "\n",
    "# hyperparameters\n",
    "best_params_rf = grid_search_rf.best_params_\n",
    "\n",
    "y_val_pred_rf = grid_search_rf.best_estimator_.predict(X_val)\n",
    "\n",
    "# Random Forest\n",
    "accuracy_rf = accuracy_score(y_val, y_val_pred_rf)\n",
    "conf_matrix_rf = confusion_matrix(y_val, y_val_pred_rf)\n",
    "f1_rf = f1_score(y_val, y_val_pred_rf)\n",
    "precision_rf = precision_score(y_val, y_val_pred_rf)\n",
    "recall_rf = recall_score(y_val, y_val_pred_rf)\n",
    "\n",
    "\n",
    "print(\"\\nRandom Forest Results:\")\n",
    "print(f\"Best Hyperparameters: {best_params_rf}\")\n",
    "print(f\"Accuracy: {accuracy_rf}\")\n",
    "print(\"Confusion Matrix:\")\n",
    "print(conf_matrix_rf)\n",
    "print(f\"F1 Score: {f1_rf}\")\n",
    "print(f\"Precision: {precision_rf}\")\n",
    "print(f\"Recall: {recall_rf}\")"
   ]
  },
  {
   "cell_type": "code",
   "execution_count": null,
   "id": "1d0cb302-2f85-4b75-a97d-71c287a5baec",
   "metadata": {},
   "outputs": [],
   "source": []
  }
 ],
 "metadata": {
  "kernelspec": {
   "display_name": "Python 3 (ipykernel)",
   "language": "python",
   "name": "python3"
  },
  "language_info": {
   "codemirror_mode": {
    "name": "ipython",
    "version": 3
   },
   "file_extension": ".py",
   "mimetype": "text/x-python",
   "name": "python",
   "nbconvert_exporter": "python",
   "pygments_lexer": "ipython3",
   "version": "3.11.4"
  }
 },
 "nbformat": 4,
 "nbformat_minor": 5
}
