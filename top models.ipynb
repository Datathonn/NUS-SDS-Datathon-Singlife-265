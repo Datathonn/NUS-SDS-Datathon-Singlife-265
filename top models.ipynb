{
 "cells": [
  {
   "cell_type": "code",
   "execution_count": 2,
   "id": "cc2e3a3e-033f-489a-85bb-e0a0c9fcbedb",
   "metadata": {},
   "outputs": [],
   "source": [
    "import pandas as pd\n",
    "import numpy as np\n",
    "import matplotlib.pyplot as plt\n",
    "\n",
    "df = pd.read_parquet('./data/catB_train.parquet')"
   ]
  },
  {
   "cell_type": "code",
   "execution_count": 3,
   "id": "59690688-732a-4fa8-bb86-6b70343db401",
   "metadata": {},
   "outputs": [],
   "source": [
    "# Add new feature Age\n",
    "df = df[df['cltdob_fix']!='None']\n",
    "df['cltdob_fix'] = pd.to_datetime(df.iloc[:, 6], format ='mixed')\n",
    "df['age'] = 2024-df['cltdob_fix'].dt.year"
   ]
  },
  {
   "cell_type": "code",
   "execution_count": 4,
   "id": "3b5af145-8305-4539-acbe-7284e8d4c8fa",
   "metadata": {},
   "outputs": [
    {
     "name": "stderr",
     "output_type": "stream",
     "text": [
      "C:\\Users\\User\\AppData\\Local\\Temp\\ipykernel_4524\\1821917785.py:12: FutureWarning: Downcasting behavior in `replace` is deprecated and will be removed in a future version. To retain the old behavior, explicitly call `result.infer_objects(copy=False)`. To opt-in to the future behavior, set `pd.set_option('future.no_silent_downcasting', True)`\n",
      "  df['annual_income_est'] = df['annual_income_est'].replace(mapping)\n"
     ]
    }
   ],
   "source": [
    "# Mapping for replacement for categorical data (not hot encoding)\n",
    "mapping = {\n",
    "    None: -1,\n",
    "    'E.BELOW30K': 0,\n",
    "    'D.30K-60K': 1,\n",
    "    'C.60K-100K': 2,\n",
    "    'B.100K-200K': 3,\n",
    "    'A.ABOVE200K': 4,\n",
    "}\n",
    "\n",
    "# Replace values based on the mapping\n",
    "df['annual_income_est'] = df['annual_income_est'].replace(mapping)"
   ]
  },
  {
   "cell_type": "code",
   "execution_count": 5,
   "id": "e0a924ca-d8eb-4685-ba9c-84cadde663ff",
   "metadata": {},
   "outputs": [],
   "source": [
    "# Target Column\n",
    "df[\"f_purchase_lh\"] = df[\"f_purchase_lh\"].fillna(0)\n",
    "y = df[\"f_purchase_lh\"]\n",
    "\n",
    "# All features \n",
    "X = df.drop(columns=['f_purchase_lh'])"
   ]
  },
  {
   "cell_type": "code",
   "execution_count": 6,
   "id": "7d032128-9c1d-4615-b943-0a1eaac4ec94",
   "metadata": {},
   "outputs": [],
   "source": [
    "# Split numerical and non-numerical columns\n",
    "numeric_cols = X.select_dtypes(include=[\"int32\", \"int64\", \"float64\"]).columns\n",
    "X_numeric = X[numeric_cols]"
   ]
  },
  {
   "cell_type": "code",
   "execution_count": 7,
   "id": "56ef7523-9978-47af-b080-94b892c8a985",
   "metadata": {},
   "outputs": [],
   "source": [
    "# Remove Low-Variance Numerical Variables\n",
    "from sklearn.feature_selection import VarianceThreshold\n",
    "sel = VarianceThreshold(threshold=(0.05))\n",
    "sel.fit(X_numeric)\n",
    "X_numeric = X_numeric[numeric_cols[sel.get_support()]]"
   ]
  },
  {
   "cell_type": "code",
   "execution_count": 8,
   "id": "851cf756-2105-4959-b981-ee2a72490bf1",
   "metadata": {},
   "outputs": [],
   "source": [
    "# Fill null values in numeric columns with the median value\n",
    "X_numeric = X_numeric.apply(lambda x: x.fillna(x.median()))"
   ]
  },
  {
   "cell_type": "code",
   "execution_count": 9,
   "id": "36fd0adf-85be-4243-841c-0a0204c78876",
   "metadata": {},
   "outputs": [],
   "source": [
    "# Merge with selected non_categorical values\n",
    "temp = pd.get_dummies(X[['cltsex_fix', 'stat_flag']], dtype=float)\n",
    "X = pd.concat([X_numeric, temp, df['age']], axis=1)"
   ]
  },
  {
   "cell_type": "code",
   "execution_count": 10,
   "id": "a84edbbe-6f1c-467f-85a3-e4fe8500f747",
   "metadata": {},
   "outputs": [
    {
     "name": "stdout",
     "output_type": "stream",
     "text": [
      "17970\n",
      "708.0\n",
      "3.9398998330550916%\n"
     ]
    }
   ],
   "source": [
    "# Test whether it's imbalanced case\n",
    "total_row = len(y)\n",
    "purchase = sum(y)\n",
    "non_purchase = total_row - purchase\n",
    "percentage_of_purchase = (purchase/total_row)*100\n",
    "print(total_row)\n",
    "print(purchase)\n",
    "print(f\"{percentage_of_purchase}%\")"
   ]
  },
  {
   "cell_type": "code",
   "execution_count": 13,
   "id": "63746541-bb52-4087-a25c-74f402151e43",
   "metadata": {},
   "outputs": [],
   "source": [
    "# use SMOTE/adasyn to handle imbalance\n",
    "from collections import Counter\n",
    "from imblearn.over_sampling import SMOTE\n",
    "from sklearn.model_selection import train_test_split\n",
    "from imblearn.over_sampling import ADASYN\n",
    "\n",
    "X_train, X_val, y_train, y_val = train_test_split(X, y, test_size=0.2, random_state=0)\n",
    "\n",
    "smote = SMOTE(random_state=0)\n",
    "X_resampled_smote, y_resampled_smote = smote.fit_resample(X, y)\n",
    "\n",
    "adasyn = ADASYN(random_state=0)\n",
    "X_resampled_adasyn, y_resampled_adasyn = adasyn.fit_resample(X, y)\n",
    "\n",
    "X_train, X_val, y_train, y_val = train_test_split(X, y, test_size=0.2, random_state=0)\n",
    "X_train_smote, X_val_smote, y_train_smote, y_val_smote = train_test_split(X_resampled_smote, y_resampled_smote, test_size=0.2, random_state=0)\n",
    "X_train_adasyn, X_val_adasyn, y_train_adasyn, y_val_adasyn = train_test_split(X_resampled_adasyn, y_resampled_adasyn, test_size=0.2, random_state=0)\n",
    "\n"
   ]
  },
  {
   "cell_type": "markdown",
   "id": "1310fba8-4a0b-48cf-9816-e250bdab70cf",
   "metadata": {},
   "source": [
    "# TOP 5 model"
   ]
  },
  {
   "cell_type": "markdown",
   "id": "c53b647d-5bfb-434c-92d3-345d62a6bac9",
   "metadata": {},
   "source": [
    "random forest with custom threshold"
   ]
  },
  {
   "cell_type": "code",
   "execution_count": 11,
   "id": "8b1c905e-c9a0-4eee-a1f5-30b83d0ea7f8",
   "metadata": {},
   "outputs": [
    {
     "name": "stdout",
     "output_type": "stream",
     "text": [
      "\n",
      "Random Forest Results:\n",
      "Accuracy: 0.9404563160823595\n",
      "Confusion Matrix:\n",
      "[[3332  116]\n",
      " [  98   48]]\n",
      "F1 Score: 0.3096774193548387\n",
      "Precision: 0.2926829268292683\n",
      "Recall: 0.3287671232876712\n",
      "CPU times: total: 3.2 s\n",
      "Wall time: 3.55 s\n"
     ]
    }
   ],
   "source": [
    "%%time\n",
    "from sklearn.model_selection import train_test_split\n",
    "from sklearn.tree import DecisionTreeClassifier\n",
    "from sklearn.ensemble import RandomForestClassifier\n",
    "from sklearn.metrics import accuracy_score, confusion_matrix, f1_score, precision_score,recall_score\n",
    "\n",
    "X_train, X_val, y_train, y_val = train_test_split(X, y, test_size=0.2, random_state=0)\n",
    "custom_threshold = 0.15  # Adjust as needed\n",
    "\n",
    "\n",
    "# Random Forest\n",
    "rf_model = RandomForestClassifier(n_estimators=100, random_state=0,class_weight='balanced')\n",
    "rf_model.fit(X_train, y_train)\n",
    "\n",
    "y_val_prob_rf = rf_model.predict_proba(X_val)[:, 1]\n",
    "y_val_pred_custom_rf = (y_val_prob_rf > custom_threshold).astype(int)\n",
    "\n",
    "accuracy_rf = accuracy_score(y_val, y_val_pred_custom_rf)\n",
    "conf_matrix_rf = confusion_matrix(y_val, y_val_pred_custom_rf)\n",
    "f1_rf = f1_score(y_val, y_val_pred_custom_rf)\n",
    "precision = precision_score(y_val, y_val_pred_custom_rf)\n",
    "recall = recall_score(y_val, y_val_pred_custom_rf)\n",
    "\n",
    "print(\"\\nRandom Forest Results:\")\n",
    "print(f\"Accuracy: {accuracy_rf}\")\n",
    "print(\"Confusion Matrix:\")\n",
    "print(conf_matrix_rf)\n",
    "print(f\"F1 Score: {f1_rf}\")\n",
    "print(f\"Precision: {precision}\")\n",
    "print(f\"Recall: {recall}\")"
   ]
  },
  {
   "cell_type": "markdown",
   "id": "89c9d1e9-4ab2-4728-b6bf-dbaa9e0c250a",
   "metadata": {},
   "source": [
    "with oversampling"
   ]
  },
  {
   "cell_type": "code",
   "execution_count": 25,
   "id": "ff1b44b4-e6bb-45b3-beda-9eee3a17ab70",
   "metadata": {},
   "outputs": [
    {
     "name": "stdout",
     "output_type": "stream",
     "text": [
      "\n",
      "Random Forest Results:\n",
      "Accuracy: 0.9482470784641068\n",
      "Confusion Matrix:\n",
      "[[3271  177]\n",
      " [   9  137]]\n",
      "F1 Score: 0.5956521739130435\n",
      "Precision: 0.43630573248407645\n",
      "Recall: 0.9383561643835616\n",
      "CPU times: total: 7.14 s\n",
      "Wall time: 8.66 s\n"
     ]
    }
   ],
   "source": [
    "%%time\n",
    "from sklearn.model_selection import train_test_split\n",
    "from sklearn.tree import DecisionTreeClassifier\n",
    "from sklearn.ensemble import RandomForestClassifier\n",
    "from sklearn.metrics import accuracy_score, confusion_matrix, f1_score, precision_score,recall_score\n",
    "\n",
    "X_train, X_val, y_train, y_val = train_test_split(X, y, test_size=0.2, random_state=0)\n",
    "custom_threshold = 0.15  # Adjust as needed\n",
    "\n",
    "smote = SMOTE(random_state=0)\n",
    "X_resampled_smote, y_resampled_smote = smote.fit_resample(X, y)\n",
    "\n",
    "adasyn = ADASYN(random_state=0)\n",
    "X_resampled_adasyn, y_resampled_adasyn = adasyn.fit_resample(X, y)\n",
    "\n",
    "X_train, X_val, y_train, y_val = train_test_split(X, y, test_size=0.2, random_state=0)\n",
    "X_train_smote, X_val_smote, y_train_smote, y_val_smote = train_test_split(X_resampled_smote, y_resampled_smote, test_size=0.2, random_state=0)\n",
    "X_train_adasyn, X_val_adasyn, y_train_adasyn, y_val_adasyn = train_test_split(X_resampled_adasyn, y_resampled_adasyn, test_size=0.2, random_state=0)\n",
    "\n",
    "# Random Forest\n",
    "rf_model = RandomForestClassifier(n_estimators=100, random_state=0,class_weight='balanced')\n",
    "rf_model.fit(X_train, y_train)\n",
    "rf_model.fit(X_train_smote, y_train_smote)\n",
    "rf_model.fit(X_train_adasyn, y_train_adasyn)\n",
    "\n",
    "y_val_prob_rf = rf_model.predict_proba(X_val)[:, 1]\n",
    "y_val_pred_custom_rf = (y_val_prob_rf > custom_threshold).astype(int)\n",
    "\n",
    "accuracy_rf = accuracy_score(y_val, y_val_pred_custom_rf)\n",
    "conf_matrix_rf = confusion_matrix(y_val, y_val_pred_custom_rf)\n",
    "f1_rf = f1_score(y_val, y_val_pred_custom_rf)\n",
    "precision = precision_score(y_val, y_val_pred_custom_rf)\n",
    "recall = recall_score(y_val, y_val_pred_custom_rf)\n",
    "\n",
    "\n",
    "\n",
    "print(\"\\nRandom Forest Results:\")\n",
    "print(f\"Accuracy: {accuracy_rf}\")\n",
    "print(\"Confusion Matrix:\")\n",
    "print(conf_matrix_rf)\n",
    "print(f\"F1 Score: {f1_rf}\")\n",
    "print(f\"Precision: {precision}\")\n",
    "print(f\"Recall: {recall}\")"
   ]
  },
  {
   "cell_type": "markdown",
   "id": "58f97e67-77b9-4ea7-90df-418f9830874e",
   "metadata": {},
   "source": [
    "Logistic with custom threshold and cross validation"
   ]
  },
  {
   "cell_type": "code",
   "execution_count": 15,
   "id": "962716a2-821d-4995-a046-2dba9ce8d0bd",
   "metadata": {},
   "outputs": [
    {
     "name": "stdout",
     "output_type": "stream",
     "text": [
      "Average Accuracy with Custom Threshold: 0.936839305799117\n",
      "Average Confusion Matrix with Custom Threshold:\n",
      "[[2665.    97.8]\n",
      " [  83.8   28.6]]\n",
      "Average F1 Score with Custom Threshold: 0.2395318817738703\n",
      "precision = 0.22679708157057238\n",
      "recall = 0.2544563843236409\n",
      "CPU times: total: 1.75 s\n",
      "Wall time: 3.46 s\n"
     ]
    }
   ],
   "source": [
    "%%time\n",
    "import warnings\n",
    "warnings.filterwarnings('ignore')\n",
    "from sklearn.model_selection import train_test_split, cross_val_score, StratifiedKFold\n",
    "from sklearn.linear_model import LogisticRegression\n",
    "\n",
    "X_train, X_val, y_train, y_val = train_test_split(X, y, test_size=0.2, random_state=0)\n",
    "\n",
    "logreg_model = LogisticRegression()\n",
    "\n",
    "# custom threshold\n",
    "custom_threshold = 0.15\n",
    "\n",
    "# cross-validation\n",
    "cv = StratifiedKFold(n_splits=5, shuffle=True, random_state=0)\n",
    "\n",
    "accuracy_scores = []\n",
    "conf_matrices = []\n",
    "f1_scores = []\n",
    "precision = []\n",
    "recall = []\n",
    "\n",
    "# cross-validation\n",
    "for train_idx, val_idx in cv.split(X_train, y_train):\n",
    "    X_train_fold, X_val_fold = X_train.iloc[train_idx], X_train.iloc[val_idx]\n",
    "    y_train_fold, y_val_fold = y_train.iloc[train_idx], y_train.iloc[val_idx]\n",
    "\n",
    "    logreg_model.fit(X_train_fold, y_train_fold)\n",
    "    y_val_prob = logreg_model.predict_proba(X_val_fold)[:, 1]\n",
    "\n",
    "    y_val_pred_custom = (y_val_prob > custom_threshold).astype(int)\n",
    "\n",
    "    accuracy_fold = accuracy_score(y_val_fold, y_val_pred_custom)\n",
    "    conf_matrix_fold = confusion_matrix(y_val_fold, y_val_pred_custom)\n",
    "    f1_fold = f1_score(y_val_fold, y_val_pred_custom)\n",
    "    precision_ = precision_score(y_val_fold,y_val_pred_custom)\n",
    "    recall_ = recall_score(y_val_fold,y_val_pred_custom)\n",
    "\n",
    "    accuracy_scores.append(accuracy_fold)\n",
    "    conf_matrices.append(conf_matrix_fold)\n",
    "    f1_scores.append(f1_fold)\n",
    "    precision.append(precision_)\n",
    "    recall.append(recall_)\n",
    "\n",
    "print(f\"Average Accuracy with Custom Threshold: {sum(accuracy_scores) / len(accuracy_scores)}\")\n",
    "print(\"Average Confusion Matrix with Custom Threshold:\")\n",
    "print(sum(conf_matrices) / len(conf_matrices))\n",
    "print(f\"Average F1 Score with Custom Threshold: {sum(f1_scores) / len(f1_scores)}\")\n",
    "print(f\"precision = {sum(precision)/len(precision)}\")\n",
    "print(f\"recall = {sum(recall)/len(recall)}\")\n"
   ]
  },
  {
   "cell_type": "markdown",
   "id": "a96fab9c-37cb-44dc-a411-c18f434a98b4",
   "metadata": {},
   "source": [
    "with smote"
   ]
  },
  {
   "cell_type": "code",
   "execution_count": 16,
   "id": "d2f51229-ee07-47a6-9d35-31bb6fa4e9e2",
   "metadata": {},
   "outputs": [
    {
     "name": "stdout",
     "output_type": "stream",
     "text": [
      "Average Accuracy with Custom Threshold: 0.38689554332708476\n",
      "Average Confusion Matrix with Custom Threshold:\n",
      "[[1012.  1750.8]\n",
      " [  12.   100.4]]\n",
      "Average F1 Score with Custom Threshold: 0.10229361516200805\n",
      "precision = 0.05425359828072203\n",
      "recall = 0.8932838179519595\n",
      "CPU times: total: 11.8 s\n",
      "Wall time: 14.9 s\n"
     ]
    }
   ],
   "source": [
    "%%time\n",
    "import warnings\n",
    "warnings.filterwarnings('ignore')\n",
    "X_train, X_val, y_train, y_val = train_test_split(X, y, test_size=0.2, random_state=0)\n",
    "\n",
    "logreg_model = LogisticRegression()\n",
    "\n",
    "# custom threshold\n",
    "custom_threshold = 0.15\n",
    "\n",
    "# cross-validation\n",
    "cv = StratifiedKFold(n_splits=5, shuffle=True, random_state=0)\n",
    "\n",
    "accuracy_scores = []\n",
    "conf_matrices = []\n",
    "f1_scores = []\n",
    "precision = []\n",
    "recall = []\n",
    "\n",
    "# cross-validation\n",
    "for train_idx, val_idx in cv.split(X_train, y_train):\n",
    "    X_train_fold, X_val_fold = X_train.iloc[train_idx], X_train.iloc[val_idx]\n",
    "    y_train_fold, y_val_fold = y_train.iloc[train_idx], y_train.iloc[val_idx]\n",
    "\n",
    "    smote = SMOTE(random_state=0)\n",
    "    adasyn = ADASYN(random_state=0)\n",
    "\n",
    "    X_train_smote, y_train_smote = smote.fit_resample(X_train, y_train)\n",
    "    X_train_adasyn, y_train_adasyn = adasyn.fit_resample(X_train, y_train)    \n",
    "\n",
    "    logreg_model.fit(X_train_fold, y_train_fold)\n",
    "    logreg_model.fit(X_train_smote, y_train_smote)\n",
    "    logreg_model.fit(X_train_adasyn, y_train_adasyn)\n",
    "    y_val_prob = logreg_model.predict_proba(X_val_fold)[:, 1]\n",
    "\n",
    "    y_val_pred_custom = (y_val_prob > custom_threshold).astype(int)\n",
    "\n",
    "    accuracy_fold = accuracy_score(y_val_fold, y_val_pred_custom)\n",
    "    conf_matrix_fold = confusion_matrix(y_val_fold, y_val_pred_custom)\n",
    "    f1_fold = f1_score(y_val_fold, y_val_pred_custom)\n",
    "    precision_ = precision_score(y_val_fold,y_val_pred_custom)\n",
    "    recall_ = recall_score(y_val_fold,y_val_pred_custom)\n",
    "\n",
    "    accuracy_scores.append(accuracy_fold)\n",
    "    conf_matrices.append(conf_matrix_fold)\n",
    "    f1_scores.append(f1_fold)\n",
    "    precision.append(precision_)\n",
    "    recall.append(recall_)\n",
    "\n",
    "print(f\"Average Accuracy with Custom Threshold: {sum(accuracy_scores) / len(accuracy_scores)}\")\n",
    "print(\"Average Confusion Matrix with Custom Threshold:\")\n",
    "print(sum(conf_matrices) / len(conf_matrices))\n",
    "print(f\"Average F1 Score with Custom Threshold: {sum(f1_scores) / len(f1_scores)}\")\n",
    "print(f\"precision = {sum(precision)/len(precision)}\")\n",
    "print(f\"recall = {sum(recall)/len(recall)}\")\n"
   ]
  },
  {
   "cell_type": "markdown",
   "id": "38604a00-2610-433f-89f5-c1e3fe856e61",
   "metadata": {},
   "source": [
    "3. Random Forest w grid search"
   ]
  },
  {
   "cell_type": "code",
   "execution_count": 19,
   "id": "650d27ca-b92a-4bdc-bcbe-28c5ac7ce70f",
   "metadata": {
    "scrolled": true
   },
   "outputs": [
    {
     "name": "stdout",
     "output_type": "stream",
     "text": [
      "\n",
      "Random Forest Results:\n",
      "Best Hyperparameters: {'max_depth': 10, 'min_samples_leaf': 4, 'min_samples_split': 10}\n",
      "Accuracy: 0.9062326099053979\n",
      "Confusion Matrix:\n",
      "[[3195  253]\n",
      " [  84   62]]\n",
      "F1 Score: 0.26898047722342733\n",
      "Precision: 0.19682539682539682\n",
      "Recall: 0.4246575342465753\n",
      "CPU times: total: 2min 26s\n",
      "Wall time: 2min 36s\n"
     ]
    }
   ],
   "source": [
    "%%time\n",
    "from sklearn.model_selection import train_test_split, GridSearchCV\n",
    "from sklearn.tree import DecisionTreeClassifier\n",
    "from sklearn.ensemble import RandomForestClassifier\n",
    "from sklearn.metrics import accuracy_score, confusion_matrix, f1_score\n",
    "\n",
    "X_train, X_val, y_train, y_val = train_test_split(X, y, test_size=0.2, random_state=0)\n",
    "\n",
    "rf_model = RandomForestClassifier(n_estimators=100, random_state=0, class_weight='balanced')\n",
    "\n",
    "param_grid = {\n",
    "    'max_depth': [None, 10, 20],\n",
    "    'min_samples_split': [2, 5, 10],\n",
    "    'min_samples_leaf': [1, 2, 4]\n",
    "}\n",
    "\n",
    "\n",
    "# Grid Search for Random Forest\n",
    "grid_search_rf = GridSearchCV(estimator=rf_model, param_grid=param_grid, scoring='f1', cv=3)\n",
    "grid_search_rf.fit(X_train, y_train)\n",
    "\n",
    "# hyperparameters\n",
    "best_params_rf = grid_search_rf.best_params_\n",
    "\n",
    "y_val_pred_rf = grid_search_rf.best_estimator_.predict(X_val)\n",
    "\n",
    "# Random Forest\n",
    "accuracy_rf = accuracy_score(y_val, y_val_pred_rf)\n",
    "conf_matrix_rf = confusion_matrix(y_val, y_val_pred_rf)\n",
    "f1_rf = f1_score(y_val, y_val_pred_rf)\n",
    "precision_rf = precision_score(y_val, y_val_pred_rf)\n",
    "recall_rf = recall_score(y_val, y_val_pred_rf)\n",
    "\n",
    "\n",
    "print(\"\\nRandom Forest Results:\")\n",
    "print(f\"Best Hyperparameters: {best_params_rf}\")\n",
    "print(f\"Accuracy: {accuracy_rf}\")\n",
    "print(\"Confusion Matrix:\")\n",
    "print(conf_matrix_rf)\n",
    "print(f\"F1 Score: {f1_rf}\")\n",
    "print(f\"Precision: {precision_rf}\")\n",
    "print(f\"Recall: {recall_rf}\")"
   ]
  },
  {
   "cell_type": "markdown",
   "id": "030ca158-05b1-4f24-bdbb-036458e87da5",
   "metadata": {},
   "source": [
    "with sampling"
   ]
  },
  {
   "cell_type": "markdown",
   "id": "95a2bc0f-2124-492d-88a9-b24c8233cc3d",
   "metadata": {},
   "source": [
    "4. Random Forest with random search"
   ]
  },
  {
   "cell_type": "code",
   "execution_count": 21,
   "id": "e3abfd27-c8fb-49cb-b40f-7eed53f7fd52",
   "metadata": {},
   "outputs": [
    {
     "name": "stdout",
     "output_type": "stream",
     "text": [
      "\n",
      "Random Forest Results:\n",
      "Best Hyperparameters: {'max_depth': 10, 'min_samples_leaf': 4, 'min_samples_split': 7}\n",
      "Accuracy: 0.9012242626599889\n",
      "Confusion Matrix:\n",
      "[[3173  275]\n",
      " [  80   66]]\n",
      "F1 Score: 0.27104722792607805\n",
      "Precision: 0.1935483870967742\n",
      "Recall: 0.4520547945205479\n",
      "CPU times: total: 54.3 s\n",
      "Wall time: 58.8 s\n"
     ]
    }
   ],
   "source": [
    "%%time\n",
    "from sklearn.model_selection import train_test_split, RandomizedSearchCV\n",
    "from sklearn.tree import DecisionTreeClassifier\n",
    "from sklearn.ensemble import RandomForestClassifier\n",
    "from sklearn.metrics import accuracy_score, confusion_matrix, f1_score,precision_score, recall_score\n",
    "from scipy.stats import randint\n",
    "\n",
    "X_train, X_val, y_train, y_val = train_test_split(X, y, test_size=0.2, random_state=0)\n",
    "\n",
    "rf_model = RandomForestClassifier(n_estimators=100, random_state=0, class_weight='balanced')\n",
    "\n",
    "param_dist = {\n",
    "    'max_depth': [None, 10, 20],\n",
    "    'min_samples_split': randint(2, 11),\n",
    "    'min_samples_leaf': randint(1, 5)\n",
    "}\n",
    "\n",
    "# Random Search for Random Forest\n",
    "random_search_rf = RandomizedSearchCV(estimator=rf_model, param_distributions=param_dist, scoring='f1', cv=3, n_iter=10, random_state=0)\n",
    "random_search_rf.fit(X_train, y_train)\n",
    "\n",
    "# hyperparameters\n",
    "best_params_rf = random_search_rf.best_params_\n",
    "y_val_pred_rf = random_search_rf.best_estimator_.predict(X_val)\n",
    "\n",
    "# Random Forest\n",
    "accuracy_rf = accuracy_score(y_val, y_val_pred_rf)\n",
    "conf_matrix_rf = confusion_matrix(y_val, y_val_pred_rf)\n",
    "f1_rf = f1_score(y_val, y_val_pred_rf)\n",
    "precision_rf = precision_score(y_val, y_val_pred_rf)\n",
    "recall_rf = recall_score(y_val, y_val_pred_rf)\n",
    "\n",
    "print(\"\\nRandom Forest Results:\")\n",
    "print(f\"Best Hyperparameters: {best_params_rf}\")\n",
    "print(f\"Accuracy: {accuracy_rf}\")\n",
    "print(\"Confusion Matrix:\")\n",
    "print(conf_matrix_rf)\n",
    "print(f\"F1 Score: {f1_rf}\")\n",
    "print(f\"Precision: {precision_rf}\")\n",
    "print(f\"Recall: {recall_rf}\")"
   ]
  },
  {
   "cell_type": "code",
   "execution_count": 22,
   "id": "8058169e-4c1d-4ad8-b1a0-f808787242c2",
   "metadata": {},
   "outputs": [
    {
     "name": "stdout",
     "output_type": "stream",
     "text": [
      "\n",
      "Random Forest Results:\n",
      "Best Hyperparameters: {'max_depth': 20, 'min_samples_leaf': 1, 'min_samples_split': 3}\n",
      "Accuracy: 0.9546466332776851\n",
      "Confusion Matrix:\n",
      "[[3416   32]\n",
      " [ 131   15]]\n",
      "F1 Score: 0.15544041450777202\n",
      "Precision: 0.3191489361702128\n",
      "Recall: 0.10273972602739725\n",
      "CPU times: total: 3min 4s\n",
      "Wall time: 3min 34s\n"
     ]
    }
   ],
   "source": [
    "%%time\n",
    "from sklearn.model_selection import train_test_split, RandomizedSearchCV\n",
    "from sklearn.tree import DecisionTreeClassifier\n",
    "from sklearn.ensemble import RandomForestClassifier\n",
    "from sklearn.metrics import accuracy_score, confusion_matrix, f1_score,precision_score, recall_score\n",
    "from scipy.stats import randint\n",
    "\n",
    "X_train, X_val, y_train, y_val = train_test_split(X, y, test_size=0.2, random_state=0)\n",
    "smote = SMOTE(random_state=0)\n",
    "X_resampled_smote, y_resampled_smote = smote.fit_resample(X_train, y_train)\n",
    "\n",
    "adasyn = ADASYN(random_state=0)\n",
    "X_resampled_adasyn, y_resampled_adasyn = adasyn.fit_resample(X_train, y_train)\n",
    "\n",
    "# Combine resampled datasets\n",
    "X_combined_resampled = pd.concat([X_resampled_smote, X_resampled_adasyn])\n",
    "y_combined_resampled = pd.concat([y_resampled_smote, y_resampled_adasyn])\n",
    "\n",
    "rf_model = RandomForestClassifier(n_estimators=100, random_state=0, class_weight='balanced')\n",
    "\n",
    "param_dist = {\n",
    "    'max_depth': [None, 10, 20],\n",
    "    'min_samples_split': randint(2, 11),\n",
    "    'min_samples_leaf': randint(1, 5)\n",
    "}\n",
    "\n",
    "# Random Search for Random Forest\n",
    "random_search_rf = RandomizedSearchCV(estimator=rf_model, param_distributions=param_dist, scoring='f1', cv=3, n_iter=10, random_state=0)\n",
    "random_search_rf.fit(X_combined_resampled, y_combined_resampled)\n",
    "\n",
    "# hyperparameters\n",
    "best_params_rf = random_search_rf.best_params_\n",
    "y_val_pred_rf = random_search_rf.best_estimator_.predict(X_val)\n",
    "\n",
    "# Random Forest\n",
    "accuracy_rf = accuracy_score(y_val, y_val_pred_rf)\n",
    "conf_matrix_rf = confusion_matrix(y_val, y_val_pred_rf)\n",
    "f1_rf = f1_score(y_val, y_val_pred_rf)\n",
    "precision_rf = precision_score(y_val, y_val_pred_rf)\n",
    "recall_rf = recall_score(y_val, y_val_pred_rf)\n",
    "\n",
    "print(\"\\nRandom Forest Results:\")\n",
    "print(f\"Best Hyperparameters: {best_params_rf}\")\n",
    "print(f\"Accuracy: {accuracy_rf}\")\n",
    "print(\"Confusion Matrix:\")\n",
    "print(conf_matrix_rf)\n",
    "print(f\"F1 Score: {f1_rf}\")\n",
    "print(f\"Precision: {precision_rf}\")\n",
    "print(f\"Recall: {recall_rf}\")"
   ]
  },
  {
   "cell_type": "code",
   "execution_count": null,
   "id": "a1c16cb0-d9b0-40e4-9aba-d5ab9c578468",
   "metadata": {},
   "outputs": [],
   "source": []
  }
 ],
 "metadata": {
  "kernelspec": {
   "display_name": "Python 3 (ipykernel)",
   "language": "python",
   "name": "python3"
  },
  "language_info": {
   "codemirror_mode": {
    "name": "ipython",
    "version": 3
   },
   "file_extension": ".py",
   "mimetype": "text/x-python",
   "name": "python",
   "nbconvert_exporter": "python",
   "pygments_lexer": "ipython3",
   "version": "3.11.4"
  }
 },
 "nbformat": 4,
 "nbformat_minor": 5
}
