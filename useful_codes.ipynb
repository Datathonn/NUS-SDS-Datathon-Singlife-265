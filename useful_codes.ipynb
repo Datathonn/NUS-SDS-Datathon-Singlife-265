{
 "cells": [
  {
   "cell_type": "code",
   "execution_count": null,
   "id": "7c0531e6",
   "metadata": {},
   "outputs": [],
   "source": [
    "import pandas as pd\n",
    "import matplotlib.pyplot as plt\n",
    "\n",
    "df = pd.read_parquet('./data/catB_train.parquet')"
   ]
  },
  {
   "cell_type": "code",
   "execution_count": null,
   "id": "0499ee80",
   "metadata": {},
   "outputs": [],
   "source": [
    "# Target Column\n",
    "df[\"f_purchase_lh\"] = df[\"f_purchase_lh\"].fillna(0)\n",
    "y = df[\"f_purchase_lh\"]\n",
    "\n",
    "# All features \n",
    "X = df.drop(columns=['f_purchase_lh'])"
   ]
  },
  {
   "cell_type": "code",
   "execution_count": null,
   "id": "1a681bb0",
   "metadata": {},
   "outputs": [],
   "source": [
    "# Add new feature Age\n",
    "X = X[X['cltdob_fix']!='None']\n",
    "X['cltdob_fix'] = pd.to_datetime(X.iloc[:, 6], format ='mixed')\n",
    "X['age'] = 2024-X['cltdob_fix'].dt.year"
   ]
  },
  {
   "cell_type": "code",
   "execution_count": null,
   "id": "6b744d59",
   "metadata": {},
   "outputs": [],
   "source": [
    "# Get numerical variables\n",
    "numeric_cols = X.select_dtypes(include=[\"int32\", \"int64\", \"float64\"]).columns\n",
    "X_numeric = X[numeric_cols]"
   ]
  },
  {
   "cell_type": "code",
   "execution_count": null,
   "id": "e50b9f48",
   "metadata": {},
   "outputs": [],
   "source": [
    "# Remove Low-Variance Numerical Variables\n",
    "from sklearn.feature_selection import VarianceThreshold\n",
    "sel = VarianceThreshold(threshold=(0.05))\n",
    "sel.fit(X_numeric)\n",
    "X_numeric = X_numeric[numeric_cols[sel.get_support()]]"
   ]
  },
  {
   "cell_type": "code",
   "execution_count": null,
   "id": "4c76e4aa",
   "metadata": {},
   "outputs": [],
   "source": [
    "# Fill null values in numeric columns with the median value\n",
    "X_numeric = X_numeric.apply(lambda x: x.fillna(x.median()))"
   ]
  },
  {
   "cell_type": "code",
   "execution_count": null,
   "id": "7e353df4",
   "metadata": {},
   "outputs": [],
   "source": [
    "# Merge with selected non_categorical values\n",
    "temp = pd.get_dummies(X[['cltsex_fix', 'stat_flag']], dtype=float)\n",
    "X = pd.concat([X_numeric, temp], axis=1)"
   ]
  },
  {
   "cell_type": "code",
   "execution_count": null,
   "id": "59984fbe",
   "metadata": {},
   "outputs": [],
   "source": [
    "from sklearn.model_selection import train_test_split\n",
    "X_train, X_val, y_train, y_val = train_test_split(X, y, test_size=0.2, random_state=0)"
   ]
  },
  {
   "cell_type": "code",
   "execution_count": null,
   "id": "af8049dd",
   "metadata": {},
   "outputs": [],
   "source": [
    "# Mapping for replacement for categorical data (not hot encoding)\n",
    "mapping = {\n",
    "    None: -1,\n",
    "    'E.BELOW30K': 0,\n",
    "    'D.30K-60K': 1,\n",
    "    'C.60K-100K': 2,\n",
    "    'B.100K-200K': 3,\n",
    "    'A.ABOVE200K': 4,\n",
    "}\n",
    "\n",
    "# Replace values based on the mapping\n",
    "df['annual_income_est'] = df['annual_income_est'].replace(mapping)"
   ]
  }
 ],
 "metadata": {
  "kernelspec": {
   "display_name": "Python 3 (ipykernel)",
   "language": "python",
   "name": "python3"
  },
  "language_info": {
   "codemirror_mode": {
    "name": "ipython",
    "version": 3
   },
   "file_extension": ".py",
   "mimetype": "text/x-python",
   "name": "python",
   "nbconvert_exporter": "python",
   "pygments_lexer": "ipython3",
   "version": "3.11.5"
  }
 },
 "nbformat": 4,
 "nbformat_minor": 5
}
